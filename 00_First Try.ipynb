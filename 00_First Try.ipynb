{
 "cells": [
  {
   "cell_type": "markdown",
   "id": "834ee60f-af36-4803-ac22-6f3663344303",
   "metadata": {},
   "source": [
    "First Attempt"
   ]
  },
  {
   "cell_type": "code",
   "execution_count": null,
   "id": "c02fc25d-44e7-46ee-82c8-9481fda65b2c",
   "metadata": {},
   "outputs": [],
   "source": [
    "# !pip install medmnist"
   ]
  },
  {
   "cell_type": "code",
   "execution_count": 35,
   "id": "9a3ee39a-ff2c-4008-95c7-226329f34b8c",
   "metadata": {},
   "outputs": [
    {
     "name": "stdout",
     "output_type": "stream",
     "text": [
      "MedMNIST version: 3.0.2\n",
      "\n",
      "'pneumoniamnist' info dictionary:\n",
      " {'python_class': 'PneumoniaMNIST', 'description': 'The PneumoniaMNIST is based on a prior dataset of 5,856 pediatric chest X-Ray images. The task is binary-class classification of pneumonia against normal. We split the source training set with a ratio of 9:1 into training and validation set and use its source validation set as the test set. The source images are gray-scale, and their sizes are (384−2,916)×(127−2,713). We center-crop the images and resize them into 1×28×28.', 'url': 'https://zenodo.org/records/10519652/files/pneumoniamnist.npz?download=1', 'MD5': '28209eda62fecd6e6a2d98b1501bb15f', 'url_64': 'https://zenodo.org/records/10519652/files/pneumoniamnist_64.npz?download=1', 'MD5_64': '8f4eceb4ccffa70c672198ea285246c6', 'url_128': 'https://zenodo.org/records/10519652/files/pneumoniamnist_128.npz?download=1', 'MD5_128': '05b46931834c231683c68f40c47b2971', 'url_224': 'https://zenodo.org/records/10519652/files/pneumoniamnist_224.npz?download=1', 'MD5_224': 'd6a3c71de1b945ea11211b03746c1fe1', 'task': 'binary-class', 'label': {'0': 'normal', '1': 'pneumonia'}, 'n_channels': 1, 'n_samples': {'train': 4708, 'val': 524, 'test': 624}, 'license': 'CC BY 4.0'}\n"
     ]
    }
   ],
   "source": [
    "import numpy as np\n",
    "import matplotlib.pyplot as plt\n",
    "import medmnist\n",
    "import os\n",
    "import pandas as pd\n",
    "import tensorflow as tf\n",
    "\n",
    "from pathlib import Path\n",
    "from medmnist import INFO, Evaluator\n",
    "from tensorflow import keras\n",
    "from tensorflow.keras import layers\n",
    "\n",
    "print(\"MedMNIST version:\", medmnist.__version__)\n",
    "print(\"\\n'pneumoniamnist' info dictionary:\\n\", INFO[\"pneumoniamnist\"])"
   ]
  },
  {
   "cell_type": "code",
   "execution_count": 36,
   "id": "037b6c00-e33b-46ba-b799-27471e7ab932",
   "metadata": {},
   "outputs": [],
   "source": [
    "BATCH_SIZE = 64\n",
    "\n",
    "def load_npz_data(npz_path):\n",
    "    \"\"\"Load train, val, and test arrays from a given .npz file.\"\"\"\n",
    "    data = np.load(npz_path)\n",
    "    \n",
    "    # Adjust keys if necessary\n",
    "    train_images = data['train_images']\n",
    "    train_labels = data['train_labels']\n",
    "    val_images = data['val_images']\n",
    "    val_labels = data['val_labels']\n",
    "    test_images = data['test_images']\n",
    "    test_labels = data['test_labels']\n",
    "    \n",
    "    return (train_images, train_labels), (val_images, val_labels), (test_images, test_labels)\n",
    "\n",
    "def create_tf_dataset_from_numpy(images, labels, batch_size=BATCH_SIZE):\n",
    "    \"\"\"Convert numpy arrays to a tf.data.Dataset, expanding grayscale images to 3 channels.\"\"\"\n",
    "    if images.ndim == 3:  # shape: (N, H, W)\n",
    "        images = np.expand_dims(images, axis=-1)  # shape: (N, H, W, 1)\n",
    "    if images.shape[-1] == 1:\n",
    "        images = np.tile(images, (1, 1, 1, 3))   # convert grayscale to RGB\n",
    "    \n",
    "    images = images.astype(np.float32) / 255.0\n",
    "    ds = tf.data.Dataset.from_tensor_slices((images, labels))\n",
    "    ds = ds.batch(batch_size)\n",
    "    return ds"
   ]
  },
  {
   "cell_type": "code",
   "execution_count": 33,
   "id": "2b72a2a1-2237-42e9-87eb-a33cd800326c",
   "metadata": {},
   "outputs": [
    {
     "name": "stdout",
     "output_type": "stream",
     "text": [
      "pathmnist => Train: 89996, Val: 10004, Test: 7180\n",
      "dermamnist => Train: 7007, Val: 1003, Test: 2005\n",
      "octmnist => Train: 97477, Val: 10832, Test: 1000\n",
      "pneumoniamnist => Train: 4708, Val: 524, Test: 624\n",
      "retinamnist => Train: 1080, Val: 120, Test: 400\n",
      "breastmnist => Train: 546, Val: 78, Test: 156\n",
      "bloodmnist => Train: 11959, Val: 1712, Test: 3421\n",
      "tissuemnist => Train: 165466, Val: 23640, Test: 47280\n",
      "organamnist => Train: 34561, Val: 6491, Test: 17778\n",
      "organcmnist => Train: 12975, Val: 2392, Test: 8216\n",
      "organsmnist => Train: 13932, Val: 2452, Test: 8827\n"
     ]
    }
   ],
   "source": [
    "for task in task_names:\n",
    "    print(f\"{task} => Train: {len(train_datasets[task])}, \"\n",
    "          f\"Val: {len(val_datasets[task])}, \"\n",
    "          f\"Test: {len(test_datasets[task])}\")"
   ]
  },
  {
   "cell_type": "code",
   "execution_count": 34,
   "id": "8b70c349-91d7-46fb-ab7f-7eb6d5f3cc92",
   "metadata": {},
   "outputs": [
    {
     "name": "stdout",
     "output_type": "stream",
     "text": [
      "Expected total test samples: 96887\n"
     ]
    }
   ],
   "source": [
    "# Calculate and verify expected total test samples early\n",
    "expected_total = sum(len(test_datasets[task]) for task in task_names)\n",
    "print(\"Expected total test samples:\", expected_total)"
   ]
  },
  {
   "cell_type": "code",
   "execution_count": 4,
   "id": "c01abd08-f2af-480c-837f-c6095444eb6b",
   "metadata": {},
   "outputs": [],
   "source": [
    "BATCH_SIZE = 64\n",
    "\n",
    "def create_tf_dataset(medmnist_dataset, batch_size=BATCH_SIZE):\n",
    "    \"\"\"\n",
    "    Convert medmnist dataset into a tf.data.Dataset that yields (images, labels).\n",
    "    \"\"\"\n",
    "    x = medmnist_dataset.imgs  # shape: (N, 28, 28) if grayscale; or (N, 28, 28, 3) if as_rgb=True\n",
    "    y = medmnist_dataset.labels.squeeze()  # shape: (N,) or (N,1)\n",
    "\n",
    "    # Convert grayscale data to 3 channels if needed\n",
    "    if len(x.shape) == 3:  # (N, 28, 28)\n",
    "        x = np.expand_dims(x, axis=-1)  # (N, 28, 28, 1)\n",
    "        # Optionally tile to 3 channels\n",
    "        x = np.tile(x, (1, 1, 1, 3))  # (N, 28, 28, 3)\n",
    "\n",
    "    # Create tf.data.Dataset\n",
    "    ds = tf.data.Dataset.from_tensor_slices((x, y))\n",
    "    ds = ds.shuffle(buffer_size=len(x)).batch(batch_size)\n",
    "    return ds\n",
    "\n",
    "train_datasets_tf = {task: create_tf_dataset(train_datasets[task], BATCH_SIZE) for task in task_names}\n",
    "val_datasets_tf   = {task: create_tf_dataset(val_datasets[task],   BATCH_SIZE) for task in task_names}\n",
    "test_datasets_tf  = {task: create_tf_dataset(test_datasets[task],  BATCH_SIZE) for task in task_names}"
   ]
  },
  {
   "cell_type": "code",
   "execution_count": 5,
   "id": "9602ad68-c566-4ae1-90b1-8372267cb48f",
   "metadata": {},
   "outputs": [],
   "source": [
    "class MultiTaskKerasModel(keras.Model):\n",
    "    def __init__(self, task_names, data_flag_to_info):\n",
    "        super().__init__()\n",
    "        self.task_names = task_names\n",
    "        \n",
    "        # Simple CNN backbone\n",
    "        self.conv1 = layers.Conv2D(32, kernel_size=3, padding='same', activation='relu')\n",
    "        self.pool1 = layers.MaxPooling2D()\n",
    "        self.conv2 = layers.Conv2D(64, kernel_size=3, padding='same', activation='relu')\n",
    "        self.pool2 = layers.MaxPooling2D()\n",
    "        self.flatten = layers.Flatten()\n",
    "        \n",
    "        # Classification heads: a Dense layer for each task\n",
    "        self.heads = {}\n",
    "        for task in task_names:\n",
    "            n_classes = len(data_flag_to_info[task]['label'])\n",
    "            self.heads[task] = layers.Dense(n_classes, name=f'head_{task}')\n",
    "\n",
    "        self.heads = dict(self.heads)  # convert to normal dict for convenience\n",
    "\n",
    "    def call(self, x, task=None, training=False):\n",
    "        \"\"\"\n",
    "        Forward pass. If 'task' is provided, return that task's logits. \n",
    "        Otherwise return a dict of all tasks' logits.\n",
    "        \"\"\"\n",
    "        # Shared feature extraction\n",
    "        x = self.conv1(x, training=training)\n",
    "        x = self.pool1(x)\n",
    "        x = self.conv2(x, training=training)\n",
    "        x = self.pool2(x)\n",
    "        x = self.flatten(x)\n",
    "        \n",
    "        if task is not None:\n",
    "            # Return only the relevant head\n",
    "            return self.heads[task](x)\n",
    "        else:\n",
    "            # Return a dictionary of all heads (not strictly needed for round-robin)\n",
    "            outputs = {}\n",
    "            for t in self.task_names:\n",
    "                outputs[t] = self.heads[t](x)\n",
    "            return outputs"
   ]
  },
  {
   "cell_type": "code",
   "execution_count": 6,
   "id": "f289b03b-4458-4352-940d-040f67a9077f",
   "metadata": {},
   "outputs": [],
   "source": [
    "model = MultiTaskKerasModel(task_names, data_flag_to_info)\n",
    "optimizer = tf.keras.optimizers.Adam(learning_rate=1e-3)\n",
    "\n",
    "# We'll use SparseCategoricalCrossentropy for single-label classification\n",
    "loss_fn = tf.keras.losses.SparseCategoricalCrossentropy(from_logits=True)\n",
    "\n",
    "EPOCHS = 3  # small demo"
   ]
  },
  {
   "cell_type": "code",
   "execution_count": 8,
   "id": "e59fbc1d-c7ec-4644-a5fb-63595a97317b",
   "metadata": {},
   "outputs": [
    {
     "name": "stdout",
     "output_type": "stream",
     "text": [
      "Epoch 1/3...\n",
      "  Loss: 0.8439\n",
      "Epoch 2/3...\n",
      "  Loss: 0.7721\n",
      "Epoch 3/3...\n",
      "  Loss: 0.7333\n"
     ]
    }
   ],
   "source": [
    "for epoch in range(EPOCHS):\n",
    "    print(f\"Epoch {epoch+1}/{EPOCHS}...\")\n",
    "    epoch_loss = 0.0\n",
    "    total_batches = 0\n",
    "    \n",
    "    # Round-robin over tasks\n",
    "    for task in task_names:\n",
    "        dataset = train_datasets_tf[task]\n",
    "        \n",
    "        for step, (images, labels) in enumerate(dataset):\n",
    "            images = tf.cast(images, tf.float32) / 255.0  # scale [0, 255] -> [0, 1]\n",
    "            \n",
    "            with tf.GradientTape() as tape:\n",
    "                logits = model(images, task=task, training=True)\n",
    "                loss_value = loss_fn(labels, logits)\n",
    "            \n",
    "            vars_to_train = [\n",
    "                var for var in model.trainable_variables\n",
    "                if (\"conv\" in var.name or \"pool\" in var.name or \"flatten\" in var.name or f\"head_{task}\" in var.name)\n",
    "                ]\n",
    "            \n",
    "            grads = tape.gradient(loss_value, vars_to_train)\n",
    "            optimizer.apply_gradients(zip(grads, vars_to_train))\n",
    "            \n",
    "            epoch_loss += loss_value.numpy()\n",
    "            total_batches += 1\n",
    "    \n",
    "    avg_loss = epoch_loss / total_batches if total_batches > 0 else 0.0\n",
    "    print(f\"  Loss: {avg_loss:.4f}\")"
   ]
  },
  {
   "cell_type": "code",
   "execution_count": 24,
   "id": "0d68a2b7-8943-4bcd-8e87-8838b7a1e55a",
   "metadata": {},
   "outputs": [
    {
     "name": "stdout",
     "output_type": "stream",
     "text": [
      "\n",
      "Validation Results:\n",
      "pathmnist => Accuracy: 0.1236, AUC: 0.5005\n",
      "dermamnist => Accuracy: 0.6630, AUC: 0.4989\n",
      "octmnist => Accuracy: 0.4528, AUC: 0.5006\n",
      "pneumoniamnist => Accuracy: 0.7347, AUC: 0.4949\n",
      "retinamnist => Accuracy: 0.4500, AUC: 0.5115\n",
      "breastmnist => Accuracy: 0.6154, AUC: 0.4962\n",
      "bloodmnist => Accuracy: 0.1069, AUC: 0.4937\n",
      "tissuemnist => Accuracy: 0.2131, AUC: 0.4998\n",
      "organamnist => Accuracy: 0.1160, AUC: 0.5011\n",
      "organcmnist => Accuracy: 0.1037, AUC: 0.4952\n",
      "organsmnist => Accuracy: 0.0991, AUC: 0.4931\n"
     ]
    }
   ],
   "source": [
    "print(\"\\nValidation Results:\")\n",
    "for task in task_names:\n",
    "    all_preds = []\n",
    "    \n",
    "    # Collect predictions for each batch in the validation set of the current task\n",
    "    for images, labels in val_datasets_tf[task]:\n",
    "        images = tf.cast(images, tf.float32) / 255.0\n",
    "        logits = model(images, task=task, training=False)\n",
    "        preds = tf.argmax(logits, axis=1).numpy()\n",
    "        all_preds.append(preds)\n",
    "\n",
    "    # Concatenate predictions across all batches\n",
    "    all_preds = np.concatenate(all_preds)\n",
    "\n",
    "    # Determine number of classes for the current task using the length of the label mapping\n",
    "    n_classes = len(data_flag_to_info[task]['label'])\n",
    "\n",
    "    # Create a one-hot encoded matrix for predictions\n",
    "    y_score = np.zeros((all_preds.shape[0], n_classes))\n",
    "    y_score[np.arange(all_preds.shape[0]), all_preds] = 1\n",
    "\n",
    "    # Initialize the Evaluator for the current task and validation split\n",
    "    evaluator = Evaluator(task, split='val')\n",
    "\n",
    "    # Evaluate using one-hot encoded predictions as scores\n",
    "    metrics = evaluator.evaluate(y_score)\n",
    "\n",
    "    # Extract accuracy and AUC from the returned Metrics object\n",
    "    accuracy = metrics.ACC\n",
    "    auc = metrics.AUC\n",
    "\n",
    "    print(f\"{task} => Accuracy: {accuracy:.4f}, AUC: {auc:.4f}\")"
   ]
  },
  {
   "cell_type": "code",
   "execution_count": 26,
   "id": "0a7795c5-8dd8-4758-bd90-765fca81734e",
   "metadata": {},
   "outputs": [
    {
     "name": "stdout",
     "output_type": "stream",
     "text": [
      "\n",
      "Macro F1 Scores per Task:\n",
      "pathmnist: 0.1716\n",
      "dermamnist: 0.1417\n",
      "octmnist: 0.3364\n",
      "pneumoniamnist: 0.4567\n",
      "retinamnist: 0.2048\n",
      "breastmnist: 0.7983\n",
      "bloodmnist: 0.3146\n",
      "tissuemnist: 0.2880\n",
      "organamnist: 0.9463\n",
      "organcmnist: 0.9544\n",
      "organsmnist: 0.8181\n",
      "\n",
      "Harmonic Mean of Macro F1 Scores: 0.3220\n"
     ]
    },
    {
     "data": {
      "image/png": "[encoded data removed]",
      "text/plain": [
       "<Figure size 1200x600 with 1 Axes>"
      ]
     },
     "metadata": {},
     "output_type": "display_data"
    }
   ],
   "source": [
    "# Dictionary to store macro F1 scores for each task\n",
    "macro_f1_scores = {}\n",
    "\n",
    "print(\"\\nMacro F1 Scores per Task:\")\n",
    "for task in task_names:\n",
    "    all_preds = []\n",
    "    all_labels = []\n",
    "\n",
    "    # Collect predictions and true labels for the validation set of the current task\n",
    "    for images, labels in val_datasets_tf[task]:\n",
    "        images = tf.cast(images, tf.float32) / 255.0\n",
    "        logits = model(images, task=task, training=False)\n",
    "        preds = tf.argmax(logits, axis=1).numpy()\n",
    "        \n",
    "        all_preds.append(preds)\n",
    "        all_labels.append(labels.numpy())\n",
    "\n",
    "    # Concatenate predictions and labels across all batches\n",
    "    all_preds = np.concatenate(all_preds)\n",
    "    all_labels = np.concatenate(all_labels)\n",
    "\n",
    "    # Compute macro F1 score for current task\n",
    "    f1 = f1_score(all_labels, all_preds, average='macro')\n",
    "    macro_f1_scores[task] = f1\n",
    "    print(f\"{task}: {f1:.4f}\")\n",
    "\n",
    "# Compute harmonic mean of all macro F1 scores\n",
    "f1_values = list(macro_f1_scores.values())\n",
    "# Avoid division by zero\n",
    "if all(f1 > 0 for f1 in f1_values):\n",
    "    harmonic_mean = len(f1_values) / np.sum(1.0 / np.array(f1_values))\n",
    "else:\n",
    "    harmonic_mean = 0.0\n",
    "\n",
    "print(f\"\\nHarmonic Mean of Macro F1 Scores: {harmonic_mean:.4f}\")\n",
    "\n",
    "# Plot the macro F1 scores for each task\n",
    "tasks = list(macro_f1_scores.keys())\n",
    "scores = list(macro_f1_scores.values())\n",
    "\n",
    "plt.figure(figsize=(12, 6))\n",
    "bars = plt.bar(tasks, scores, color='skyblue')\n",
    "plt.axhline(y=harmonic_mean, color='r', linestyle='--', label=f'Harmonic Mean: {harmonic_mean:.4f}')\n",
    "plt.xlabel(\"Task\")\n",
    "plt.ylabel(\"Macro F1 Score\")\n",
    "plt.title(\"Macro F1 Scores per Task with Harmonic Mean\")\n",
    "plt.xticks(rotation=45)\n",
    "plt.legend()\n",
    "plt.ylim([0, 1])\n",
    "plt.show()"
   ]
  },
  {
   "cell_type": "code",
   "execution_count": 27,
   "id": "85661020-93bb-49da-992f-d27a02bce6fa",
   "metadata": {},
   "outputs": [
    {
     "name": "stdout",
     "output_type": "stream",
     "text": [
      "   id  id_image_in_task  task_name  label\n",
      "0   0                 0  pathmnist      8\n",
      "1   1                 1  pathmnist      5\n",
      "2   2                 2  pathmnist      5\n",
      "3   3                 3  pathmnist      1\n",
      "4   4                 4  pathmnist      5\n",
      "5   5                 5  pathmnist      5\n",
      "6   6                 6  pathmnist      5\n",
      "7   7                 7  pathmnist      5\n",
      "8   8                 8  pathmnist      2\n",
      "9   9                 9  pathmnist      5\n",
      "Submission file saved to 'submission.csv'\n"
     ]
    }
   ],
   "source": [
    "submission_rows = []\n",
    "global_id = 0\n",
    "\n",
    "for task in task_names:\n",
    "    # We'll just iterate again in batch form\n",
    "    # We'll keep a local index for each sample in this task\n",
    "    idx_in_task = 0\n",
    "    \n",
    "    for images, _ in test_datasets_tf[task]:\n",
    "        images = tf.cast(images, tf.float32) / 255.0\n",
    "        logits = model(images, task=task, training=False)\n",
    "        preds = tf.argmax(logits, axis=1).numpy()\n",
    "        \n",
    "        for pred_label in preds:\n",
    "            submission_rows.append([\n",
    "                global_id,\n",
    "                idx_in_task,\n",
    "                task,\n",
    "                int(pred_label)\n",
    "            ])\n",
    "            global_id += 1\n",
    "            idx_in_task += 1\n",
    "\n",
    "# Convert to DataFrame\n",
    "submission_df = pd.DataFrame(\n",
    "    submission_rows,\n",
    "    columns=[\"id\", \"id_image_in_task\", \"task_name\", \"label\"]\n",
    ")\n",
    "\n",
    "print(submission_df.head(10))\n",
    "\n",
    "# Save to CSV\n",
    "submission_df.to_csv(\"submission.csv\", index=False)\n",
    "print(\"Submission file saved to 'submission.csv'\")"
   ]
  },
  {
   "cell_type": "code",
   "execution_count": 28,
   "id": "b1b47961-4141-4641-8133-a6b4991e3e7c",
   "metadata": {},
   "outputs": [
    {
     "data": {
      "text/html": [
       "<div>\n",
       "<style scoped>\n",
       "    .dataframe tbody tr th:only-of-type {\n",
       "        vertical-align: middle;\n",
       "    }\n",
       "\n",
       "    .dataframe tbody tr th {\n",
       "        vertical-align: top;\n",
       "    }\n",
       "\n",
       "    .dataframe thead th {\n",
       "        text-align: right;\n",
       "    }\n",
       "</style>\n",
       "<table border=\"1\" class=\"dataframe\">\n",
       "  <thead>\n",
       "    <tr style=\"text-align: right;\">\n",
       "      <th></th>\n",
       "      <th>id</th>\n",
       "      <th>id_image_in_task</th>\n",
       "      <th>task_name</th>\n",
       "      <th>label</th>\n",
       "    </tr>\n",
       "  </thead>\n",
       "  <tbody>\n",
       "    <tr>\n",
       "      <th>0</th>\n",
       "      <td>0</td>\n",
       "      <td>0</td>\n",
       "      <td>pathmnist</td>\n",
       "      <td>8</td>\n",
       "    </tr>\n",
       "    <tr>\n",
       "      <th>1</th>\n",
       "      <td>1</td>\n",
       "      <td>1</td>\n",
       "      <td>pathmnist</td>\n",
       "      <td>5</td>\n",
       "    </tr>\n",
       "    <tr>\n",
       "      <th>2</th>\n",
       "      <td>2</td>\n",
       "      <td>2</td>\n",
       "      <td>pathmnist</td>\n",
       "      <td>5</td>\n",
       "    </tr>\n",
       "    <tr>\n",
       "      <th>3</th>\n",
       "      <td>3</td>\n",
       "      <td>3</td>\n",
       "      <td>pathmnist</td>\n",
       "      <td>1</td>\n",
       "    </tr>\n",
       "    <tr>\n",
       "      <th>4</th>\n",
       "      <td>4</td>\n",
       "      <td>4</td>\n",
       "      <td>pathmnist</td>\n",
       "      <td>5</td>\n",
       "    </tr>\n",
       "    <tr>\n",
       "      <th>...</th>\n",
       "      <td>...</td>\n",
       "      <td>...</td>\n",
       "      <td>...</td>\n",
       "      <td>...</td>\n",
       "    </tr>\n",
       "    <tr>\n",
       "      <th>96882</th>\n",
       "      <td>96882</td>\n",
       "      <td>8822</td>\n",
       "      <td>organsmnist</td>\n",
       "      <td>2</td>\n",
       "    </tr>\n",
       "    <tr>\n",
       "      <th>96883</th>\n",
       "      <td>96883</td>\n",
       "      <td>8823</td>\n",
       "      <td>organsmnist</td>\n",
       "      <td>4</td>\n",
       "    </tr>\n",
       "    <tr>\n",
       "      <th>96884</th>\n",
       "      <td>96884</td>\n",
       "      <td>8824</td>\n",
       "      <td>organsmnist</td>\n",
       "      <td>6</td>\n",
       "    </tr>\n",
       "    <tr>\n",
       "      <th>96885</th>\n",
       "      <td>96885</td>\n",
       "      <td>8825</td>\n",
       "      <td>organsmnist</td>\n",
       "      <td>6</td>\n",
       "    </tr>\n",
       "    <tr>\n",
       "      <th>96886</th>\n",
       "      <td>96886</td>\n",
       "      <td>8826</td>\n",
       "      <td>organsmnist</td>\n",
       "      <td>9</td>\n",
       "    </tr>\n",
       "  </tbody>\n",
       "</table>\n",
       "<p>96887 rows × 4 columns</p>\n",
       "</div>"
      ],
      "text/plain": [
       "          id  id_image_in_task    task_name  label\n",
       "0          0                 0    pathmnist      8\n",
       "1          1                 1    pathmnist      5\n",
       "2          2                 2    pathmnist      5\n",
       "3          3                 3    pathmnist      1\n",
       "4          4                 4    pathmnist      5\n",
       "...      ...               ...          ...    ...\n",
       "96882  96882              8822  organsmnist      2\n",
       "96883  96883              8823  organsmnist      4\n",
       "96884  96884              8824  organsmnist      6\n",
       "96885  96885              8825  organsmnist      6\n",
       "96886  96886              8826  organsmnist      9\n",
       "\n",
       "[96887 rows x 4 columns]"
      ]
     },
     "execution_count": 28,
     "metadata": {},
     "output_type": "execute_result"
    }
   ],
   "source": [
    "submission_df"
   ]
  },
  {
   "cell_type": "code",
   "execution_count": 29,
   "id": "063a5536-bac1-4b22-958d-d8e09d7d57b5",
   "metadata": {},
   "outputs": [
    {
     "name": "stdout",
     "output_type": "stream",
     "text": [
      "Expected total test samples: 96887\n"
     ]
    }
   ],
   "source": [
    "expected_total = sum(len(test_datasets[task]) for task in task_names)\n",
    "print(\"Expected total test samples:\", expected_total)"
   ]
  },
  {
   "cell_type": "code",
   "execution_count": 30,
   "id": "2909d321-9d0e-477c-96de-b0c7c588c7d6",
   "metadata": {},
   "outputs": [
    {
     "name": "stdout",
     "output_type": "stream",
     "text": [
      "pathmnist test samples: 7180\n",
      "dermamnist test samples: 2005\n",
      "octmnist test samples: 1000\n",
      "pneumoniamnist test samples: 624\n",
      "retinamnist test samples: 400\n",
      "breastmnist test samples: 156\n",
      "bloodmnist test samples: 3421\n",
      "tissuemnist test samples: 47280\n",
      "organamnist test samples: 17778\n",
      "organcmnist test samples: 8216\n",
      "organsmnist test samples: 8827\n"
     ]
    }
   ],
   "source": [
    "for task in task_names:\n",
    "    print(f\"{task} test samples:\", len(test_datasets[task]))\n",
    "    "
   ]
  },
  {
   "cell_type": "code",
   "execution_count": null,
   "id": "df720460-44bd-4bde-9162-9838e86bd704",
   "metadata": {},
   "outputs": [],
   "source": []
  }
 ],
 "metadata": {
  "kernelspec": {
   "display_name": "Python 3 (ipykernel)",
   "language": "python",
   "name": "python3"
  },
  "language_info": {
   "codemirror_mode": {
    "name": "ipython",
    "version": 3
   },
   "file_extension": ".py",
   "mimetype": "text/x-python",
   "name": "python",
   "nbconvert_exporter": "python",
   "pygments_lexer": "ipython3",
   "version": "3.8.19"
  }
 },
 "nbformat": 4,
 "nbformat_minor": 5
}
