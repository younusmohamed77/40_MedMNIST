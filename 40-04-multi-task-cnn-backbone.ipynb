{
 "cells": [
  {
   "cell_type": "markdown",
   "id": "bf575b81",
   "metadata": {
    "papermill": {
     "duration": 0.003029,
     "end_time": "2025-02-14T04:39:11.663351",
     "exception": false,
     "start_time": "2025-02-14T04:39:11.660322",
     "status": "completed"
    },
    "tags": []
   },
   "source": [
    "# Leaderboard Submission Code for the Tensor Reloaded Multi-Task MedMNIST Competition\n",
    "\n",
    "This notebook loads the provided Kaggle `.npz` files, creates TensorFlow datasets for training, validation, and testing, and builds a multi-task model using a simple CNN backbone with mixed precision enabled. After training with early stopping based on the harmonic mean of macro F1 scores on the validation sets, we generate a submission CSV file in the required format."
   ]
  },
  {
   "cell_type": "code",
   "execution_count": 1,
   "id": "2f9b81a7",
   "metadata": {
    "execution": {
     "iopub.execute_input": "2025-02-14T04:39:11.669488Z",
     "iopub.status.busy": "2025-02-14T04:39:11.669204Z",
     "iopub.status.idle": "2025-02-14T04:39:25.412609Z",
     "shell.execute_reply": "2025-02-14T04:39:25.411532Z"
    },
    "papermill": {
     "duration": 13.747951,
     "end_time": "2025-02-14T04:39:25.414076",
     "exception": false,
     "start_time": "2025-02-14T04:39:11.666125",
     "status": "completed"
    },
    "tags": []
   },
   "outputs": [
    {
     "name": "stdout",
     "output_type": "stream",
     "text": [
      "GPUs found and configured: [PhysicalDevice(name='/physical_device:GPU:0', device_type='GPU'), PhysicalDevice(name='/physical_device:GPU:1', device_type='GPU')]\n"
     ]
    }
   ],
   "source": [
    "import tensorflow as tf\n",
    "\n",
    "# Check for available GPUs and set memory growth\n",
    "gpus = tf.config.list_physical_devices('GPU')\n",
    "if gpus:\n",
    "    try:\n",
    "        # Enable memory growth for each GPU so TensorFlow only allocates what it needs.\n",
    "        for gpu in gpus:\n",
    "            tf.config.experimental.set_memory_growth(gpu, True)\n",
    "        print(\"GPUs found and configured:\", gpus)\n",
    "    except RuntimeError as e:\n",
    "        # Memory growth must be set before GPUs have been initialized\n",
    "        print(e)\n",
    "else:\n",
    "    print(\"No GPU found. Please switch your runtime to GPU in the Kaggle Notebook settings.\")"
   ]
  },
  {
   "cell_type": "code",
   "execution_count": 2,
   "id": "e0fdead1",
   "metadata": {
    "execution": {
     "iopub.execute_input": "2025-02-14T04:39:25.420683Z",
     "iopub.status.busy": "2025-02-14T04:39:25.420243Z",
     "iopub.status.idle": "2025-02-14T04:39:31.951972Z",
     "shell.execute_reply": "2025-02-14T04:39:31.950842Z"
    },
    "papermill": {
     "duration": 6.536651,
     "end_time": "2025-02-14T04:39:31.953640",
     "exception": false,
     "start_time": "2025-02-14T04:39:25.416989",
     "status": "completed"
    },
    "tags": []
   },
   "outputs": [
    {
     "name": "stdout",
     "output_type": "stream",
     "text": [
      "\u001b[2K     \u001b[90m━━━━━━━━━━━━━━━━━━━━━━━━━━━━━━━━━━━━━━━━\u001b[0m \u001b[32m87.2/87.2 kB\u001b[0m \u001b[31m3.3 MB/s\u001b[0m eta \u001b[36m0:00:00\u001b[0m\r\n",
      "\u001b[?25h  Preparing metadata (setup.py) ... \u001b[?25l\u001b[?25hdone\r\n",
      "  Building wheel for fire (setup.py) ... \u001b[?25l\u001b[?25hdone\r\n"
     ]
    }
   ],
   "source": [
    "!pip install medmnist --quiet"
   ]
  },
  {
   "cell_type": "code",
   "execution_count": 3,
   "id": "d88adf61",
   "metadata": {
    "_cell_guid": "b1076dfc-b9ad-4769-8c92-a6c4dae69d19",
    "_uuid": "8f2839f25d086af736a60e9eeb907d3b93b6e0e5",
    "execution": {
     "iopub.execute_input": "2025-02-14T04:39:31.960552Z",
     "iopub.status.busy": "2025-02-14T04:39:31.960276Z",
     "iopub.status.idle": "2025-02-14T04:39:36.620857Z",
     "shell.execute_reply": "2025-02-14T04:39:36.620117Z"
    },
    "papermill": {
     "duration": 4.666224,
     "end_time": "2025-02-14T04:39:36.623020",
     "exception": false,
     "start_time": "2025-02-14T04:39:31.956796",
     "status": "completed"
    },
    "tags": []
   },
   "outputs": [],
   "source": [
    "import matplotlib.pyplot as plt\n",
    "import medmnist\n",
    "import numpy as np\n",
    "import os\n",
    "import pandas as pd\n",
    "import seaborn as sns\n",
    "import tensorflow as tf\n",
    "\n",
    "from medmnist import INFO, Evaluator\n",
    "from pathlib import Path\n",
    "from sklearn.metrics import f1_score\n",
    "from tensorflow import keras\n",
    "from tensorflow.keras import layers"
   ]
  },
  {
   "cell_type": "code",
   "execution_count": 4,
   "id": "d7b74cba",
   "metadata": {
    "execution": {
     "iopub.execute_input": "2025-02-14T04:39:36.630321Z",
     "iopub.status.busy": "2025-02-14T04:39:36.629869Z",
     "iopub.status.idle": "2025-02-14T04:39:36.635050Z",
     "shell.execute_reply": "2025-02-14T04:39:36.634253Z"
    },
    "papermill": {
     "duration": 0.010061,
     "end_time": "2025-02-14T04:39:36.636300",
     "exception": false,
     "start_time": "2025-02-14T04:39:36.626239",
     "status": "completed"
    },
    "tags": []
   },
   "outputs": [],
   "source": [
    "from tensorflow.keras.mixed_precision import set_global_policy\n",
    "set_global_policy('mixed_float16')\n",
    "\n",
    "TARGET_SIZE = (32, 32)   # Low resolution for memory efficiency\n",
    "BATCH_SIZE = 16"
   ]
  },
  {
   "cell_type": "code",
   "execution_count": 5,
   "id": "077e197f",
   "metadata": {
    "execution": {
     "iopub.execute_input": "2025-02-14T04:39:36.642578Z",
     "iopub.status.busy": "2025-02-14T04:39:36.642368Z",
     "iopub.status.idle": "2025-02-14T04:39:36.649902Z",
     "shell.execute_reply": "2025-02-14T04:39:36.649105Z"
    },
    "papermill": {
     "duration": 0.011968,
     "end_time": "2025-02-14T04:39:36.651066",
     "exception": false,
     "start_time": "2025-02-14T04:39:36.639098",
     "status": "completed"
    },
    "tags": []
   },
   "outputs": [],
   "source": [
    "def load_npz_data(npz_path):\n",
    "    \"\"\"\n",
    "    Load train, val, and test arrays from a given .npz file.\n",
    "    Expected keys: 'train_images', 'train_labels', 'val_images', 'val_labels', 'test_images', 'test_labels'\n",
    "    \"\"\"\n",
    "    data = np.load(npz_path)\n",
    "    train_images = data['train_images']\n",
    "    train_labels = data['train_labels']\n",
    "    val_images = data['val_images']\n",
    "    val_labels = data['val_labels']\n",
    "    test_images = data['test_images']\n",
    "    test_labels = data['test_labels']\n",
    "    return (train_images, train_labels), (val_images, val_labels), (test_images, test_labels)\n",
    "\n",
    "def create_tf_dataset_from_numpy(images, labels, batch_size=BATCH_SIZE, augment=False):\n",
    "    \"\"\"\n",
    "    Convert numpy arrays to a tf.data.Dataset:\n",
    "      - Resize images to TARGET_SIZE.\n",
    "      - Convert grayscale images (N, H, W) or (N, H, W, 1) to 3-channel RGB.\n",
    "      - Optionally apply data augmentation.\n",
    "    \"\"\"\n",
    "    if images.ndim == 3:\n",
    "        images = np.expand_dims(images, axis=-1)\n",
    "    if images.shape[-1] == 1:\n",
    "        images = np.tile(images, (1, 1, 1, 3))\n",
    "    \n",
    "    images = images.astype(np.float32) / 255.0  # Normalize to [0, 1]\n",
    "\n",
    "    def _process(image, label):\n",
    "        image = tf.image.resize(image, TARGET_SIZE)\n",
    "        if augment:\n",
    "            image = tf.image.random_flip_left_right(image)\n",
    "            image = tf.image.random_flip_up_down(image)\n",
    "            image = tf.image.random_brightness(image, max_delta=0.1)\n",
    "            image = tf.image.random_contrast(image, lower=0.9, upper=1.1)\n",
    "        return image, label\n",
    "\n",
    "    ds = tf.data.Dataset.from_tensor_slices((images, labels))\n",
    "    ds = ds.map(_process, num_parallel_calls=tf.data.AUTOTUNE)\n",
    "    ds = ds.shuffle(buffer_size=len(images))\n",
    "    ds = ds.batch(batch_size)\n",
    "    ds = ds.prefetch(buffer_size=tf.data.AUTOTUNE)\n",
    "    return ds"
   ]
  },
  {
   "cell_type": "code",
   "execution_count": 6,
   "id": "893ab39d",
   "metadata": {
    "execution": {
     "iopub.execute_input": "2025-02-14T04:39:36.657231Z",
     "iopub.status.busy": "2025-02-14T04:39:36.657013Z",
     "iopub.status.idle": "2025-02-14T04:40:12.582147Z",
     "shell.execute_reply": "2025-02-14T04:40:12.581016Z"
    },
    "papermill": {
     "duration": 35.929733,
     "end_time": "2025-02-14T04:40:12.583557",
     "exception": false,
     "start_time": "2025-02-14T04:39:36.653824",
     "status": "completed"
    },
    "tags": []
   },
   "outputs": [
    {
     "name": "stdout",
     "output_type": "stream",
     "text": [
      "pathmnist: Loaded 89996 train, 10004 val, 7180 test samples\n",
      "dermamnist: Loaded 7007 train, 1003 val, 2005 test samples\n",
      "octmnist: Loaded 97477 train, 10832 val, 1000 test samples\n",
      "pneumoniamnist: Loaded 4708 train, 524 val, 624 test samples\n",
      "retinamnist: Loaded 1080 train, 120 val, 400 test samples\n",
      "breastmnist: Loaded 546 train, 78 val, 156 test samples\n",
      "bloodmnist: Loaded 11959 train, 1712 val, 3421 test samples\n",
      "tissuemnist: Loaded 165466 train, 23640 val, 47280 test samples\n",
      "organamnist: Loaded 34581 train, 6491 val, 17778 test samples\n",
      "organcmnist: Loaded 13000 train, 2392 val, 8268 test samples\n",
      "organsmnist: Loaded 13940 train, 2452 val, 8829 test samples\n",
      "Total test samples across all tasks: 96941\n"
     ]
    }
   ],
   "source": [
    "# Base path for Kaggle data\n",
    "base_path = Path(\"/kaggle/input/tensor-reloaded-multi-task-med-mnist/data\")\n",
    "\n",
    "# Define the 11 task names\n",
    "task_names = [\n",
    "    \"pathmnist\", \"dermamnist\", \"octmnist\", \"pneumoniamnist\", \n",
    "    \"retinamnist\", \"breastmnist\", \"bloodmnist\", \"tissuemnist\", \n",
    "    \"organamnist\", \"organcmnist\", \"organsmnist\"\n",
    "]\n",
    "\n",
    "# Map each task to its .npz file\n",
    "task_to_npz = {task: base_path / f\"{task}.npz\" for task in task_names}\n",
    "\n",
    "# Create dictionaries for train, validation, and test datasets\n",
    "train_datasets_tf = {}\n",
    "val_datasets_tf = {}\n",
    "test_datasets_tf = {}\n",
    "\n",
    "for task in task_names:\n",
    "    npz_file = task_to_npz[task]\n",
    "    (train_imgs, train_lbls), (val_imgs, val_lbls), (test_imgs, test_lbls) = load_npz_data(npz_file)\n",
    "    train_datasets_tf[task] = create_tf_dataset_from_numpy(train_imgs, train_lbls, BATCH_SIZE, augment=True)\n",
    "    val_datasets_tf[task]   = create_tf_dataset_from_numpy(val_imgs, val_lbls, BATCH_SIZE, augment=False)\n",
    "    test_datasets_tf[task]  = create_tf_dataset_from_numpy(test_imgs, test_lbls, BATCH_SIZE, augment=False)\n",
    "    print(f\"{task}: Loaded {len(train_imgs)} train, {len(val_imgs)} val, {len(test_imgs)} test samples\")\n",
    "\n",
    "# Verify total test samples\n",
    "total_test_samples = 0\n",
    "for task in task_names:\n",
    "    for images, labels in test_datasets_tf[task]:\n",
    "        total_test_samples += images.shape[0]\n",
    "print(\"Total test samples across all tasks:\", total_test_samples)"
   ]
  },
  {
   "cell_type": "code",
   "execution_count": 7,
   "id": "82cd4123",
   "metadata": {
    "execution": {
     "iopub.execute_input": "2025-02-14T04:40:12.591907Z",
     "iopub.status.busy": "2025-02-14T04:40:12.591634Z",
     "iopub.status.idle": "2025-02-14T04:40:15.286629Z",
     "shell.execute_reply": "2025-02-14T04:40:15.285967Z"
    },
    "papermill": {
     "duration": 2.700755,
     "end_time": "2025-02-14T04:40:15.287925",
     "exception": false,
     "start_time": "2025-02-14T04:40:12.587170",
     "status": "completed"
    },
    "tags": []
   },
   "outputs": [
    {
     "data": {
      "text/html": [
       "<pre style=\"white-space:pre;overflow-x:auto;line-height:normal;font-family:Menlo,'DejaVu Sans Mono',consolas,'Courier New',monospace\"><span style=\"font-weight: bold\">Model: \"multi_task_keras_model\"</span>\n",
       "</pre>\n"
      ],
      "text/plain": [
       "\u001b[1mModel: \"multi_task_keras_model\"\u001b[0m\n"
      ]
     },
     "metadata": {},
     "output_type": "display_data"
    },
    {
     "data": {
      "text/html": [
       "<pre style=\"white-space:pre;overflow-x:auto;line-height:normal;font-family:Menlo,'DejaVu Sans Mono',consolas,'Courier New',monospace\">┏━━━━━━━━━━━━━━━━━━━━━━━━━━━━━━━━━━━━━━┳━━━━━━━━━━━━━━━━━━━━━━━━━━━━━┳━━━━━━━━━━━━━━━━━┓\n",
       "┃<span style=\"font-weight: bold\"> Layer (type)                         </span>┃<span style=\"font-weight: bold\"> Output Shape                </span>┃<span style=\"font-weight: bold\">         Param # </span>┃\n",
       "┡━━━━━━━━━━━━━━━━━━━━━━━━━━━━━━━━━━━━━━╇━━━━━━━━━━━━━━━━━━━━━━━━━━━━━╇━━━━━━━━━━━━━━━━━┩\n",
       "│ conv2d (<span style=\"color: #0087ff; text-decoration-color: #0087ff\">Conv2D</span>)                      │ (<span style=\"color: #00af00; text-decoration-color: #00af00\">1</span>, <span style=\"color: #00af00; text-decoration-color: #00af00\">32</span>, <span style=\"color: #00af00; text-decoration-color: #00af00\">32</span>, <span style=\"color: #00af00; text-decoration-color: #00af00\">32</span>)             │             <span style=\"color: #00af00; text-decoration-color: #00af00\">896</span> │\n",
       "├──────────────────────────────────────┼─────────────────────────────┼─────────────────┤\n",
       "│ max_pooling2d (<span style=\"color: #0087ff; text-decoration-color: #0087ff\">MaxPooling2D</span>)         │ (<span style=\"color: #00af00; text-decoration-color: #00af00\">1</span>, <span style=\"color: #00af00; text-decoration-color: #00af00\">16</span>, <span style=\"color: #00af00; text-decoration-color: #00af00\">16</span>, <span style=\"color: #00af00; text-decoration-color: #00af00\">32</span>)             │               <span style=\"color: #00af00; text-decoration-color: #00af00\">0</span> │\n",
       "├──────────────────────────────────────┼─────────────────────────────┼─────────────────┤\n",
       "│ conv2d_1 (<span style=\"color: #0087ff; text-decoration-color: #0087ff\">Conv2D</span>)                    │ (<span style=\"color: #00af00; text-decoration-color: #00af00\">1</span>, <span style=\"color: #00af00; text-decoration-color: #00af00\">16</span>, <span style=\"color: #00af00; text-decoration-color: #00af00\">16</span>, <span style=\"color: #00af00; text-decoration-color: #00af00\">64</span>)             │          <span style=\"color: #00af00; text-decoration-color: #00af00\">18,496</span> │\n",
       "├──────────────────────────────────────┼─────────────────────────────┼─────────────────┤\n",
       "│ max_pooling2d_1 (<span style=\"color: #0087ff; text-decoration-color: #0087ff\">MaxPooling2D</span>)       │ (<span style=\"color: #00af00; text-decoration-color: #00af00\">1</span>, <span style=\"color: #00af00; text-decoration-color: #00af00\">8</span>, <span style=\"color: #00af00; text-decoration-color: #00af00\">8</span>, <span style=\"color: #00af00; text-decoration-color: #00af00\">64</span>)               │               <span style=\"color: #00af00; text-decoration-color: #00af00\">0</span> │\n",
       "├──────────────────────────────────────┼─────────────────────────────┼─────────────────┤\n",
       "│ flatten (<span style=\"color: #0087ff; text-decoration-color: #0087ff\">Flatten</span>)                    │ (<span style=\"color: #00af00; text-decoration-color: #00af00\">1</span>, <span style=\"color: #00af00; text-decoration-color: #00af00\">4096</span>)                   │               <span style=\"color: #00af00; text-decoration-color: #00af00\">0</span> │\n",
       "├──────────────────────────────────────┼─────────────────────────────┼─────────────────┤\n",
       "│ head_pathmnist (<span style=\"color: #0087ff; text-decoration-color: #0087ff\">Dense</span>)               │ (<span style=\"color: #00af00; text-decoration-color: #00af00\">1</span>, <span style=\"color: #00af00; text-decoration-color: #00af00\">9</span>)                      │          <span style=\"color: #00af00; text-decoration-color: #00af00\">36,873</span> │\n",
       "├──────────────────────────────────────┼─────────────────────────────┼─────────────────┤\n",
       "│ head_dermamnist (<span style=\"color: #0087ff; text-decoration-color: #0087ff\">Dense</span>)              │ (<span style=\"color: #00af00; text-decoration-color: #00af00\">1</span>, <span style=\"color: #00af00; text-decoration-color: #00af00\">7</span>)                      │          <span style=\"color: #00af00; text-decoration-color: #00af00\">28,679</span> │\n",
       "├──────────────────────────────────────┼─────────────────────────────┼─────────────────┤\n",
       "│ head_octmnist (<span style=\"color: #0087ff; text-decoration-color: #0087ff\">Dense</span>)                │ (<span style=\"color: #00af00; text-decoration-color: #00af00\">1</span>, <span style=\"color: #00af00; text-decoration-color: #00af00\">4</span>)                      │          <span style=\"color: #00af00; text-decoration-color: #00af00\">16,388</span> │\n",
       "├──────────────────────────────────────┼─────────────────────────────┼─────────────────┤\n",
       "│ head_pneumoniamnist (<span style=\"color: #0087ff; text-decoration-color: #0087ff\">Dense</span>)          │ (<span style=\"color: #00af00; text-decoration-color: #00af00\">1</span>, <span style=\"color: #00af00; text-decoration-color: #00af00\">2</span>)                      │           <span style=\"color: #00af00; text-decoration-color: #00af00\">8,194</span> │\n",
       "├──────────────────────────────────────┼─────────────────────────────┼─────────────────┤\n",
       "│ head_retinamnist (<span style=\"color: #0087ff; text-decoration-color: #0087ff\">Dense</span>)             │ (<span style=\"color: #00af00; text-decoration-color: #00af00\">1</span>, <span style=\"color: #00af00; text-decoration-color: #00af00\">5</span>)                      │          <span style=\"color: #00af00; text-decoration-color: #00af00\">20,485</span> │\n",
       "├──────────────────────────────────────┼─────────────────────────────┼─────────────────┤\n",
       "│ head_breastmnist (<span style=\"color: #0087ff; text-decoration-color: #0087ff\">Dense</span>)             │ (<span style=\"color: #00af00; text-decoration-color: #00af00\">1</span>, <span style=\"color: #00af00; text-decoration-color: #00af00\">2</span>)                      │           <span style=\"color: #00af00; text-decoration-color: #00af00\">8,194</span> │\n",
       "├──────────────────────────────────────┼─────────────────────────────┼─────────────────┤\n",
       "│ head_bloodmnist (<span style=\"color: #0087ff; text-decoration-color: #0087ff\">Dense</span>)              │ (<span style=\"color: #00af00; text-decoration-color: #00af00\">1</span>, <span style=\"color: #00af00; text-decoration-color: #00af00\">8</span>)                      │          <span style=\"color: #00af00; text-decoration-color: #00af00\">32,776</span> │\n",
       "├──────────────────────────────────────┼─────────────────────────────┼─────────────────┤\n",
       "│ head_tissuemnist (<span style=\"color: #0087ff; text-decoration-color: #0087ff\">Dense</span>)             │ (<span style=\"color: #00af00; text-decoration-color: #00af00\">1</span>, <span style=\"color: #00af00; text-decoration-color: #00af00\">8</span>)                      │          <span style=\"color: #00af00; text-decoration-color: #00af00\">32,776</span> │\n",
       "├──────────────────────────────────────┼─────────────────────────────┼─────────────────┤\n",
       "│ head_organamnist (<span style=\"color: #0087ff; text-decoration-color: #0087ff\">Dense</span>)             │ (<span style=\"color: #00af00; text-decoration-color: #00af00\">1</span>, <span style=\"color: #00af00; text-decoration-color: #00af00\">11</span>)                     │          <span style=\"color: #00af00; text-decoration-color: #00af00\">45,067</span> │\n",
       "├──────────────────────────────────────┼─────────────────────────────┼─────────────────┤\n",
       "│ head_organcmnist (<span style=\"color: #0087ff; text-decoration-color: #0087ff\">Dense</span>)             │ (<span style=\"color: #00af00; text-decoration-color: #00af00\">1</span>, <span style=\"color: #00af00; text-decoration-color: #00af00\">11</span>)                     │          <span style=\"color: #00af00; text-decoration-color: #00af00\">45,067</span> │\n",
       "├──────────────────────────────────────┼─────────────────────────────┼─────────────────┤\n",
       "│ head_organsmnist (<span style=\"color: #0087ff; text-decoration-color: #0087ff\">Dense</span>)             │ (<span style=\"color: #00af00; text-decoration-color: #00af00\">1</span>, <span style=\"color: #00af00; text-decoration-color: #00af00\">11</span>)                     │          <span style=\"color: #00af00; text-decoration-color: #00af00\">45,067</span> │\n",
       "└──────────────────────────────────────┴─────────────────────────────┴─────────────────┘\n",
       "</pre>\n"
      ],
      "text/plain": [
       "┏━━━━━━━━━━━━━━━━━━━━━━━━━━━━━━━━━━━━━━┳━━━━━━━━━━━━━━━━━━━━━━━━━━━━━┳━━━━━━━━━━━━━━━━━┓\n",
       "┃\u001b[1m \u001b[0m\u001b[1mLayer (type)                        \u001b[0m\u001b[1m \u001b[0m┃\u001b[1m \u001b[0m\u001b[1mOutput Shape               \u001b[0m\u001b[1m \u001b[0m┃\u001b[1m \u001b[0m\u001b[1m        Param #\u001b[0m\u001b[1m \u001b[0m┃\n",
       "┡━━━━━━━━━━━━━━━━━━━━━━━━━━━━━━━━━━━━━━╇━━━━━━━━━━━━━━━━━━━━━━━━━━━━━╇━━━━━━━━━━━━━━━━━┩\n",
       "│ conv2d (\u001b[38;5;33mConv2D\u001b[0m)                      │ (\u001b[38;5;34m1\u001b[0m, \u001b[38;5;34m32\u001b[0m, \u001b[38;5;34m32\u001b[0m, \u001b[38;5;34m32\u001b[0m)             │             \u001b[38;5;34m896\u001b[0m │\n",
       "├──────────────────────────────────────┼─────────────────────────────┼─────────────────┤\n",
       "│ max_pooling2d (\u001b[38;5;33mMaxPooling2D\u001b[0m)         │ (\u001b[38;5;34m1\u001b[0m, \u001b[38;5;34m16\u001b[0m, \u001b[38;5;34m16\u001b[0m, \u001b[38;5;34m32\u001b[0m)             │               \u001b[38;5;34m0\u001b[0m │\n",
       "├──────────────────────────────────────┼─────────────────────────────┼─────────────────┤\n",
       "│ conv2d_1 (\u001b[38;5;33mConv2D\u001b[0m)                    │ (\u001b[38;5;34m1\u001b[0m, \u001b[38;5;34m16\u001b[0m, \u001b[38;5;34m16\u001b[0m, \u001b[38;5;34m64\u001b[0m)             │          \u001b[38;5;34m18,496\u001b[0m │\n",
       "├──────────────────────────────────────┼─────────────────────────────┼─────────────────┤\n",
       "│ max_pooling2d_1 (\u001b[38;5;33mMaxPooling2D\u001b[0m)       │ (\u001b[38;5;34m1\u001b[0m, \u001b[38;5;34m8\u001b[0m, \u001b[38;5;34m8\u001b[0m, \u001b[38;5;34m64\u001b[0m)               │               \u001b[38;5;34m0\u001b[0m │\n",
       "├──────────────────────────────────────┼─────────────────────────────┼─────────────────┤\n",
       "│ flatten (\u001b[38;5;33mFlatten\u001b[0m)                    │ (\u001b[38;5;34m1\u001b[0m, \u001b[38;5;34m4096\u001b[0m)                   │               \u001b[38;5;34m0\u001b[0m │\n",
       "├──────────────────────────────────────┼─────────────────────────────┼─────────────────┤\n",
       "│ head_pathmnist (\u001b[38;5;33mDense\u001b[0m)               │ (\u001b[38;5;34m1\u001b[0m, \u001b[38;5;34m9\u001b[0m)                      │          \u001b[38;5;34m36,873\u001b[0m │\n",
       "├──────────────────────────────────────┼─────────────────────────────┼─────────────────┤\n",
       "│ head_dermamnist (\u001b[38;5;33mDense\u001b[0m)              │ (\u001b[38;5;34m1\u001b[0m, \u001b[38;5;34m7\u001b[0m)                      │          \u001b[38;5;34m28,679\u001b[0m │\n",
       "├──────────────────────────────────────┼─────────────────────────────┼─────────────────┤\n",
       "│ head_octmnist (\u001b[38;5;33mDense\u001b[0m)                │ (\u001b[38;5;34m1\u001b[0m, \u001b[38;5;34m4\u001b[0m)                      │          \u001b[38;5;34m16,388\u001b[0m │\n",
       "├──────────────────────────────────────┼─────────────────────────────┼─────────────────┤\n",
       "│ head_pneumoniamnist (\u001b[38;5;33mDense\u001b[0m)          │ (\u001b[38;5;34m1\u001b[0m, \u001b[38;5;34m2\u001b[0m)                      │           \u001b[38;5;34m8,194\u001b[0m │\n",
       "├──────────────────────────────────────┼─────────────────────────────┼─────────────────┤\n",
       "│ head_retinamnist (\u001b[38;5;33mDense\u001b[0m)             │ (\u001b[38;5;34m1\u001b[0m, \u001b[38;5;34m5\u001b[0m)                      │          \u001b[38;5;34m20,485\u001b[0m │\n",
       "├──────────────────────────────────────┼─────────────────────────────┼─────────────────┤\n",
       "│ head_breastmnist (\u001b[38;5;33mDense\u001b[0m)             │ (\u001b[38;5;34m1\u001b[0m, \u001b[38;5;34m2\u001b[0m)                      │           \u001b[38;5;34m8,194\u001b[0m │\n",
       "├──────────────────────────────────────┼─────────────────────────────┼─────────────────┤\n",
       "│ head_bloodmnist (\u001b[38;5;33mDense\u001b[0m)              │ (\u001b[38;5;34m1\u001b[0m, \u001b[38;5;34m8\u001b[0m)                      │          \u001b[38;5;34m32,776\u001b[0m │\n",
       "├──────────────────────────────────────┼─────────────────────────────┼─────────────────┤\n",
       "│ head_tissuemnist (\u001b[38;5;33mDense\u001b[0m)             │ (\u001b[38;5;34m1\u001b[0m, \u001b[38;5;34m8\u001b[0m)                      │          \u001b[38;5;34m32,776\u001b[0m │\n",
       "├──────────────────────────────────────┼─────────────────────────────┼─────────────────┤\n",
       "│ head_organamnist (\u001b[38;5;33mDense\u001b[0m)             │ (\u001b[38;5;34m1\u001b[0m, \u001b[38;5;34m11\u001b[0m)                     │          \u001b[38;5;34m45,067\u001b[0m │\n",
       "├──────────────────────────────────────┼─────────────────────────────┼─────────────────┤\n",
       "│ head_organcmnist (\u001b[38;5;33mDense\u001b[0m)             │ (\u001b[38;5;34m1\u001b[0m, \u001b[38;5;34m11\u001b[0m)                     │          \u001b[38;5;34m45,067\u001b[0m │\n",
       "├──────────────────────────────────────┼─────────────────────────────┼─────────────────┤\n",
       "│ head_organsmnist (\u001b[38;5;33mDense\u001b[0m)             │ (\u001b[38;5;34m1\u001b[0m, \u001b[38;5;34m11\u001b[0m)                     │          \u001b[38;5;34m45,067\u001b[0m │\n",
       "└──────────────────────────────────────┴─────────────────────────────┴─────────────────┘\n"
      ]
     },
     "metadata": {},
     "output_type": "display_data"
    },
    {
     "data": {
      "text/html": [
       "<pre style=\"white-space:pre;overflow-x:auto;line-height:normal;font-family:Menlo,'DejaVu Sans Mono',consolas,'Courier New',monospace\"><span style=\"font-weight: bold\"> Total params: </span><span style=\"color: #00af00; text-decoration-color: #00af00\">338,958</span> (1.29 MB)\n",
       "</pre>\n"
      ],
      "text/plain": [
       "\u001b[1m Total params: \u001b[0m\u001b[38;5;34m338,958\u001b[0m (1.29 MB)\n"
      ]
     },
     "metadata": {},
     "output_type": "display_data"
    },
    {
     "data": {
      "text/html": [
       "<pre style=\"white-space:pre;overflow-x:auto;line-height:normal;font-family:Menlo,'DejaVu Sans Mono',consolas,'Courier New',monospace\"><span style=\"font-weight: bold\"> Trainable params: </span><span style=\"color: #00af00; text-decoration-color: #00af00\">338,958</span> (1.29 MB)\n",
       "</pre>\n"
      ],
      "text/plain": [
       "\u001b[1m Trainable params: \u001b[0m\u001b[38;5;34m338,958\u001b[0m (1.29 MB)\n"
      ]
     },
     "metadata": {},
     "output_type": "display_data"
    },
    {
     "data": {
      "text/html": [
       "<pre style=\"white-space:pre;overflow-x:auto;line-height:normal;font-family:Menlo,'DejaVu Sans Mono',consolas,'Courier New',monospace\"><span style=\"font-weight: bold\"> Non-trainable params: </span><span style=\"color: #00af00; text-decoration-color: #00af00\">0</span> (0.00 B)\n",
       "</pre>\n"
      ],
      "text/plain": [
       "\u001b[1m Non-trainable params: \u001b[0m\u001b[38;5;34m0\u001b[0m (0.00 B)\n"
      ]
     },
     "metadata": {},
     "output_type": "display_data"
    }
   ],
   "source": [
    "class MultiTaskKerasModel(keras.Model):\n",
    "    def __init__(self, task_names, data_flag_to_info):\n",
    "        super().__init__()\n",
    "        self.task_names = task_names\n",
    "        self.conv1 = layers.Conv2D(32, kernel_size=3, padding='same', activation='relu')\n",
    "        self.pool1 = layers.MaxPooling2D()\n",
    "        self.conv2 = layers.Conv2D(64, kernel_size=3, padding='same', activation='relu')\n",
    "        self.pool2 = layers.MaxPooling2D()\n",
    "        self.flatten = layers.Flatten()\n",
    "        self.heads = {}\n",
    "        for task in task_names:\n",
    "            n_classes = len(data_flag_to_info[task]['label'])\n",
    "            self.heads[task] = layers.Dense(n_classes, name=f'head_{task}')\n",
    "        self.heads = dict(self.heads)\n",
    "    \n",
    "    def build(self, input_shape):\n",
    "        # Replace None with a concrete batch size (e.g., 1) to force building.\n",
    "        concrete_shape = (1,) + input_shape[1:]\n",
    "        _ = self.call(tf.zeros(concrete_shape), training=False)\n",
    "        super().build(input_shape)\n",
    "    \n",
    "    def call(self, x, **kwargs):\n",
    "        task = kwargs.get('task', None)\n",
    "        training = kwargs.get('training', False)\n",
    "        x = self.conv1(x, training=training)\n",
    "        x = self.pool1(x)\n",
    "        x = self.conv2(x, training=training)\n",
    "        x = self.pool2(x)\n",
    "        x = self.flatten(x)\n",
    "        if task is not None:\n",
    "            return self.heads[task](x)\n",
    "        else:\n",
    "            outputs = {}\n",
    "            for t in self.task_names:\n",
    "                outputs[t] = self.heads[t](x)\n",
    "            return outputs\n",
    "\n",
    "# Use MedMNIST INFO for metadata\n",
    "data_flag_to_info = {task: INFO[task] for task in task_names}\n",
    "\n",
    "# Instantiate and build the model\n",
    "model = MultiTaskKerasModel(task_names, data_flag_to_info)\n",
    "model.build(input_shape=(None, TARGET_SIZE[0], TARGET_SIZE[1], 3))\n",
    "model.summary()"
   ]
  },
  {
   "cell_type": "code",
   "execution_count": 8,
   "id": "671a4e11",
   "metadata": {
    "execution": {
     "iopub.execute_input": "2025-02-14T04:40:15.296677Z",
     "iopub.status.busy": "2025-02-14T04:40:15.296444Z",
     "iopub.status.idle": "2025-02-14T04:40:16.526691Z",
     "shell.execute_reply": "2025-02-14T04:40:16.525983Z"
    },
    "papermill": {
     "duration": 1.236333,
     "end_time": "2025-02-14T04:40:16.528328",
     "exception": false,
     "start_time": "2025-02-14T04:40:15.291995",
     "status": "completed"
    },
    "tags": []
   },
   "outputs": [],
   "source": [
    "# Create a dummy input of shape (1, 32, 32, 3)\n",
    "dummy_input = tf.random.normal((1, 32, 32, 3))\n",
    "for t in task_names:\n",
    "    _ = model(dummy_input, task=t, training=False)\n",
    "\n",
    "# Instantiate optimizer with a cosine decay learning rate scheduler.\n",
    "lr_schedule = tf.keras.optimizers.schedules.CosineDecayRestarts(\n",
    "    initial_learning_rate=1e-3,\n",
    "    first_decay_steps=1000,\n",
    "    t_mul=2.0,\n",
    "    m_mul=1.0,\n",
    "    alpha=1e-5)\n",
    "optimizer = tf.keras.optimizers.Adam(learning_rate=lr_schedule)\n",
    "\n",
    "# Force the optimizer to register all current trainable variables by applying zero gradients.\n",
    "dummy_grads_vars = [(tf.zeros_like(var), var) for var in model.trainable_variables]\n",
    "optimizer.apply_gradients(dummy_grads_vars)\n",
    "\n",
    "loss_fn = tf.keras.losses.SparseCategoricalCrossentropy(from_logits=True)\n",
    "\n",
    "# Early stopping and training parameters\n",
    "total_epochs = 50\n",
    "patience = 5\n",
    "best_hmean_f1 = -np.inf\n",
    "patience_counter = 0\n",
    "best_weights = None"
   ]
  },
  {
   "cell_type": "code",
   "execution_count": 9,
   "id": "72ac2a1d",
   "metadata": {
    "execution": {
     "iopub.execute_input": "2025-02-14T04:40:16.537312Z",
     "iopub.status.busy": "2025-02-14T04:40:16.537058Z",
     "iopub.status.idle": "2025-02-14T07:43:41.039339Z",
     "shell.execute_reply": "2025-02-14T07:43:41.038432Z"
    },
    "papermill": {
     "duration": 11004.508259,
     "end_time": "2025-02-14T07:43:41.040815",
     "exception": false,
     "start_time": "2025-02-14T04:40:16.532556",
     "status": "completed"
    },
    "tags": []
   },
   "outputs": [
    {
     "name": "stdout",
     "output_type": "stream",
     "text": [
      "\n",
      "Starting Training...\n",
      "\n",
      "Epoch 1/50\n",
      "  Training Loss: 1.0789\n",
      "  pathmnist Macro F1: 0.0766\n",
      "  dermamnist Macro F1: 0.1145\n",
      "  octmnist Macro F1: 0.4977\n",
      "  pneumoniamnist Macro F1: 0.8217\n",
      "  retinamnist Macro F1: 0.2515\n",
      "  breastmnist Macro F1: 0.4222\n",
      "  bloodmnist Macro F1: 0.0600\n",
      "  tissuemnist Macro F1: 0.1895\n",
      "  organamnist Macro F1: 0.5546\n",
      "  organcmnist Macro F1: 0.7662\n",
      "  organsmnist Macro F1: 0.6632\n",
      "  Harmonic Mean Macro F1: 0.1899\n",
      "  Improvement detected. Saving best model weights.\n",
      "\n",
      "Epoch 2/50\n",
      "  Training Loss: 0.9514\n",
      "  pathmnist Macro F1: 0.0311\n",
      "  dermamnist Macro F1: 0.1171\n",
      "  octmnist Macro F1: 0.4819\n",
      "  pneumoniamnist Macro F1: 0.7758\n",
      "  retinamnist Macro F1: 0.1884\n",
      "  breastmnist Macro F1: 0.7913\n",
      "  bloodmnist Macro F1: 0.6798\n",
      "  tissuemnist Macro F1: 0.1780\n",
      "  organamnist Macro F1: 0.5604\n",
      "  organcmnist Macro F1: 0.7537\n",
      "  organsmnist Macro F1: 0.6898\n",
      "  Harmonic Mean Macro F1: 0.1765\n",
      "  No improvement for 1 epoch(s).\n",
      "\n",
      "Epoch 3/50\n",
      "  Training Loss: 0.9100\n",
      "  pathmnist Macro F1: 0.0583\n",
      "  dermamnist Macro F1: 0.1362\n",
      "  octmnist Macro F1: 0.4187\n",
      "  pneumoniamnist Macro F1: 0.8389\n",
      "  retinamnist Macro F1: 0.2806\n",
      "  breastmnist Macro F1: 0.4708\n",
      "  bloodmnist Macro F1: 0.4795\n",
      "  tissuemnist Macro F1: 0.2487\n",
      "  organamnist Macro F1: 0.7105\n",
      "  organcmnist Macro F1: 0.7038\n",
      "  organsmnist Macro F1: 0.6989\n",
      "  Harmonic Mean Macro F1: 0.2492\n",
      "  Improvement detected. Saving best model weights.\n",
      "\n",
      "Epoch 4/50\n",
      "  Training Loss: 0.8515\n",
      "  pathmnist Macro F1: 0.0566\n",
      "  dermamnist Macro F1: 0.1273\n",
      "  octmnist Macro F1: 0.4037\n",
      "  pneumoniamnist Macro F1: 0.8131\n",
      "  retinamnist Macro F1: 0.2314\n",
      "  breastmnist Macro F1: 0.4708\n",
      "  bloodmnist Macro F1: 0.4445\n",
      "  tissuemnist Macro F1: 0.2904\n",
      "  organamnist Macro F1: 0.7509\n",
      "  organcmnist Macro F1: 0.7384\n",
      "  organsmnist Macro F1: 0.7504\n",
      "  Harmonic Mean Macro F1: 0.2424\n",
      "  No improvement for 1 epoch(s).\n",
      "\n",
      "Epoch 5/50\n",
      "  Training Loss: 0.8681\n",
      "  pathmnist Macro F1: 0.1415\n",
      "  dermamnist Macro F1: 0.1603\n",
      "  octmnist Macro F1: 0.3974\n",
      "  pneumoniamnist Macro F1: 0.8378\n",
      "  retinamnist Macro F1: 0.2538\n",
      "  breastmnist Macro F1: 0.7247\n",
      "  bloodmnist Macro F1: 0.4030\n",
      "  tissuemnist Macro F1: 0.2662\n",
      "  organamnist Macro F1: 0.6896\n",
      "  organcmnist Macro F1: 0.7309\n",
      "  organsmnist Macro F1: 0.7481\n",
      "  Harmonic Mean Macro F1: 0.3361\n",
      "  Improvement detected. Saving best model weights.\n",
      "\n",
      "Epoch 6/50\n",
      "  Training Loss: 0.8121\n",
      "  pathmnist Macro F1: 0.0707\n",
      "  dermamnist Macro F1: 0.1145\n",
      "  octmnist Macro F1: 0.4245\n",
      "  pneumoniamnist Macro F1: 0.8238\n",
      "  retinamnist Macro F1: 0.2237\n",
      "  breastmnist Macro F1: 0.7743\n",
      "  bloodmnist Macro F1: 0.4162\n",
      "  tissuemnist Macro F1: 0.2621\n",
      "  organamnist Macro F1: 0.7015\n",
      "  organcmnist Macro F1: 0.7686\n",
      "  organsmnist Macro F1: 0.7255\n",
      "  Harmonic Mean Macro F1: 0.2587\n",
      "  No improvement for 1 epoch(s).\n",
      "\n",
      "Epoch 7/50\n",
      "  Training Loss: 0.7840\n",
      "  pathmnist Macro F1: 0.1294\n",
      "  dermamnist Macro F1: 0.1145\n",
      "  octmnist Macro F1: 0.3759\n",
      "  pneumoniamnist Macro F1: 0.8490\n",
      "  retinamnist Macro F1: 0.1591\n",
      "  breastmnist Macro F1: 0.7367\n",
      "  bloodmnist Macro F1: 0.3669\n",
      "  tissuemnist Macro F1: 0.2849\n",
      "  organamnist Macro F1: 0.7706\n",
      "  organcmnist Macro F1: 0.7782\n",
      "  organsmnist Macro F1: 0.7569\n",
      "  Harmonic Mean Macro F1: 0.2888\n",
      "  No improvement for 2 epoch(s).\n",
      "\n",
      "Epoch 8/50\n",
      "  Training Loss: 0.7475\n",
      "  pathmnist Macro F1: 0.1488\n",
      "  dermamnist Macro F1: 0.1337\n",
      "  octmnist Macro F1: 0.3353\n",
      "  pneumoniamnist Macro F1: 0.8604\n",
      "  retinamnist Macro F1: 0.1823\n",
      "  breastmnist Macro F1: 0.7118\n",
      "  bloodmnist Macro F1: 0.4298\n",
      "  tissuemnist Macro F1: 0.2855\n",
      "  organamnist Macro F1: 0.7678\n",
      "  organcmnist Macro F1: 0.7629\n",
      "  organsmnist Macro F1: 0.7533\n",
      "  Harmonic Mean Macro F1: 0.3142\n",
      "  No improvement for 3 epoch(s).\n",
      "\n",
      "Epoch 9/50\n",
      "  Training Loss: 0.7526\n",
      "  pathmnist Macro F1: 0.1176\n",
      "  dermamnist Macro F1: 0.1284\n",
      "  octmnist Macro F1: 0.3844\n",
      "  pneumoniamnist Macro F1: 0.9335\n",
      "  retinamnist Macro F1: 0.1975\n",
      "  breastmnist Macro F1: 0.5475\n",
      "  bloodmnist Macro F1: 0.4972\n",
      "  tissuemnist Macro F1: 0.3788\n",
      "  organamnist Macro F1: 0.8072\n",
      "  organcmnist Macro F1: 0.7715\n",
      "  organsmnist Macro F1: 0.7653\n",
      "  Harmonic Mean Macro F1: 0.3112\n",
      "  No improvement for 4 epoch(s).\n",
      "\n",
      "Epoch 10/50\n",
      "  Training Loss: 1.0644\n",
      "  pathmnist Macro F1: 0.1205\n",
      "  dermamnist Macro F1: 0.1305\n",
      "  octmnist Macro F1: 0.3560\n",
      "  pneumoniamnist Macro F1: 0.8679\n",
      "  retinamnist Macro F1: 0.1481\n",
      "  breastmnist Macro F1: 0.7111\n",
      "  bloodmnist Macro F1: 0.2138\n",
      "  tissuemnist Macro F1: 0.2578\n",
      "  organamnist Macro F1: 0.7754\n",
      "  organcmnist Macro F1: 0.7377\n",
      "  organsmnist Macro F1: 0.7243\n",
      "  Harmonic Mean Macro F1: 0.2705\n",
      "  No improvement for 5 epoch(s).\n",
      "Early stopping triggered.\n",
      "Best model weights restored.\n"
     ]
    }
   ],
   "source": [
    "print(\"\\nStarting Training...\")\n",
    "for epoch in range(total_epochs):\n",
    "    print(f\"\\nEpoch {epoch+1}/{total_epochs}\")\n",
    "    epoch_loss = 0.0\n",
    "    total_batches = 0\n",
    "    \n",
    "    # Training loop: iterate over each task's training dataset\n",
    "    for task in task_names:\n",
    "        dataset = train_datasets_tf[task]\n",
    "        for images, labels in dataset:\n",
    "            with tf.GradientTape() as tape:\n",
    "                outputs = model(images, task=task, training=True)\n",
    "                loss_value = loss_fn(labels, outputs)\n",
    "            grads = tape.gradient(loss_value, model.trainable_variables)\n",
    "            grads_vars = [(g, v) for g, v in zip(grads, model.trainable_variables) if g is not None]\n",
    "            optimizer.apply_gradients(grads_vars)\n",
    "            epoch_loss += loss_value.numpy()\n",
    "            total_batches += 1\n",
    "    avg_loss = epoch_loss / total_batches if total_batches > 0 else 0.0\n",
    "    print(f\"  Training Loss: {avg_loss:.4f}\")\n",
    "    \n",
    "    # Validation: compute macro F1 score for each task\n",
    "    macro_f1_scores = {}\n",
    "    for task in task_names:\n",
    "        all_preds = []\n",
    "        all_labels = []\n",
    "        for images, labels in val_datasets_tf[task]:\n",
    "            outputs = model(images, task=task, training=False)\n",
    "            preds = tf.argmax(outputs, axis=1).numpy()\n",
    "            all_preds.append(preds)\n",
    "            all_labels.append(labels.numpy())\n",
    "        all_preds = np.concatenate(all_preds)\n",
    "        all_labels = np.concatenate(all_labels)\n",
    "        f1 = f1_score(all_labels, all_preds, average='macro')\n",
    "        macro_f1_scores[task] = f1\n",
    "        print(f\"  {task} Macro F1: {f1:.4f}\")\n",
    "    \n",
    "    f1_values = np.array(list(macro_f1_scores.values()))\n",
    "    harmonic_mean_f1 = len(f1_values) / np.sum(1.0 / (f1_values + 1e-8))\n",
    "    print(f\"  Harmonic Mean Macro F1: {harmonic_mean_f1:.4f}\")\n",
    "    \n",
    "    # Early stopping check\n",
    "    if harmonic_mean_f1 > best_hmean_f1:\n",
    "        best_hmean_f1 = harmonic_mean_f1\n",
    "        patience_counter = 0\n",
    "        best_weights = model.get_weights()\n",
    "        print(\"  Improvement detected. Saving best model weights.\")\n",
    "    else:\n",
    "        patience_counter += 1\n",
    "        print(f\"  No improvement for {patience_counter} epoch(s).\")\n",
    "    \n",
    "    if patience_counter >= patience:\n",
    "        print(\"Early stopping triggered.\")\n",
    "        break\n",
    "\n",
    "# Restore best model weights after training\n",
    "if best_weights is not None:\n",
    "    model.set_weights(best_weights)\n",
    "    print(\"Best model weights restored.\")"
   ]
  },
  {
   "cell_type": "code",
   "execution_count": 10,
   "id": "4010b74b",
   "metadata": {
    "execution": {
     "iopub.execute_input": "2025-02-14T07:43:41.058890Z",
     "iopub.status.busy": "2025-02-14T07:43:41.058613Z",
     "iopub.status.idle": "2025-02-14T07:44:19.544910Z",
     "shell.execute_reply": "2025-02-14T07:44:19.543994Z"
    },
    "papermill": {
     "duration": 38.504358,
     "end_time": "2025-02-14T07:44:19.553968",
     "exception": false,
     "start_time": "2025-02-14T07:43:41.049610",
     "status": "completed"
    },
    "tags": []
   },
   "outputs": [
    {
     "name": "stdout",
     "output_type": "stream",
     "text": [
      "Total submission rows: 96941\n",
      "Submission file saved as submission.csv\n"
     ]
    }
   ],
   "source": [
    "submission_rows = []\n",
    "global_id = 0\n",
    "\n",
    "for task in task_names:\n",
    "    idx_in_task = 0\n",
    "    for images, _ in test_datasets_tf[task]:\n",
    "        outputs = model(images, task=task, training=False)\n",
    "        preds = tf.argmax(outputs, axis=1).numpy()\n",
    "        for pred in preds:\n",
    "            submission_rows.append([global_id, idx_in_task, task, int(pred)])\n",
    "            global_id += 1\n",
    "            idx_in_task += 1\n",
    "\n",
    "submission_df = pd.DataFrame(submission_rows, columns=[\"id\", \"id_image_in_task\", \"task_name\", \"label\"])\n",
    "print(\"Total submission rows:\", len(submission_df))\n",
    "submission_df.to_csv(\"submission.csv\", index=False)\n",
    "print(\"Submission file saved as submission.csv\")"
   ]
  },
  {
   "cell_type": "code",
   "execution_count": null,
   "id": "82278ef6",
   "metadata": {
    "papermill": {
     "duration": 0.00792,
     "end_time": "2025-02-14T07:44:19.570428",
     "exception": false,
     "start_time": "2025-02-14T07:44:19.562508",
     "status": "completed"
    },
    "tags": []
   },
   "outputs": [],
   "source": []
  }
 ],
 "metadata": {
  "kaggle": {
   "accelerator": "nvidiaTeslaT4",
   "dataSources": [
    {
     "databundleVersionId": 9915460,
     "sourceId": 86864,
     "sourceType": "competition"
    }
   ],
   "dockerImageVersionId": 30887,
   "isGpuEnabled": true,
   "isInternetEnabled": true,
   "language": "python",
   "sourceType": "notebook"
  },
  "kernelspec": {
   "display_name": "Python 3",
   "language": "python",
   "name": "python3"
  },
  "language_info": {
   "codemirror_mode": {
    "name": "ipython",
    "version": 3
   },
   "file_extension": ".py",
   "mimetype": "text/x-python",
   "name": "python",
   "nbconvert_exporter": "python",
   "pygments_lexer": "ipython3",
   "version": "3.10.12"
  },
  "papermill": {
   "default_parameters": {},
   "duration": 11114.141091,
   "end_time": "2025-02-14T07:44:23.107838",
   "environment_variables": {},
   "exception": null,
   "input_path": "__notebook__.ipynb",
   "output_path": "__notebook__.ipynb",
   "parameters": {},
   "start_time": "2025-02-14T04:39:08.966747",
   "version": "2.6.0"
  }
 },
 "nbformat": 4,
 "nbformat_minor": 5
}
