{
 "cells": [
  {
   "cell_type": "code",
   "execution_count": 1,
   "id": "e97068ec",
   "metadata": {
    "execution": {
     "iopub.execute_input": "2025-02-04T17:45:43.067244Z",
     "iopub.status.busy": "2025-02-04T17:45:43.066911Z",
     "iopub.status.idle": "2025-02-04T17:45:49.554629Z",
     "shell.execute_reply": "2025-02-04T17:45:49.553622Z"
    },
    "papermill": {
     "duration": 6.493586,
     "end_time": "2025-02-04T17:45:49.556238",
     "exception": false,
     "start_time": "2025-02-04T17:45:43.062652",
     "status": "completed"
    },
    "tags": []
   },
   "outputs": [
    {
     "name": "stdout",
     "output_type": "stream",
     "text": [
      "\u001b[2K     \u001b[90m━━━━━━━━━━━━━━━━━━━━━━━━━━━━━━━━━━━━━━━━\u001b[0m \u001b[32m87.2/87.2 kB\u001b[0m \u001b[31m3.3 MB/s\u001b[0m eta \u001b[36m0:00:00\u001b[0m\r\n",
      "\u001b[?25h  Preparing metadata (setup.py) ... \u001b[?25l\u001b[?25hdone\r\n",
      "  Building wheel for fire (setup.py) ... \u001b[?25l\u001b[?25hdone\r\n"
     ]
    }
   ],
   "source": [
    "!pip install -q medmnist\n",
    "# !pip install -q tensorflow\n",
    "# !pip install -q scikit-learn"
   ]
  },
  {
   "cell_type": "code",
   "execution_count": 2,
   "id": "68cbfc5a",
   "metadata": {
    "_cell_guid": "b1076dfc-b9ad-4769-8c92-a6c4dae69d19",
    "_uuid": "8f2839f25d086af736a60e9eeb907d3b93b6e0e5",
    "execution": {
     "iopub.execute_input": "2025-02-04T17:45:49.563336Z",
     "iopub.status.busy": "2025-02-04T17:45:49.563054Z",
     "iopub.status.idle": "2025-02-04T17:46:05.686898Z",
     "shell.execute_reply": "2025-02-04T17:46:05.685957Z"
    },
    "papermill": {
     "duration": 16.128997,
     "end_time": "2025-02-04T17:46:05.688562",
     "exception": false,
     "start_time": "2025-02-04T17:45:49.559565",
     "status": "completed"
    },
    "tags": []
   },
   "outputs": [],
   "source": [
    "import os\n",
    "import numpy as np\n",
    "import pandas as pd\n",
    "import tensorflow as tf\n",
    "import matplotlib.pyplot as plt\n",
    "from pathlib import Path\n",
    "from sklearn.metrics import f1_score\n",
    "import medmnist\n",
    "from medmnist import INFO, Evaluator\n",
    "from tensorflow import keras\n",
    "from tensorflow.keras import layers"
   ]
  },
  {
   "cell_type": "code",
   "execution_count": 3,
   "id": "9bd25874",
   "metadata": {
    "execution": {
     "iopub.execute_input": "2025-02-04T17:46:05.695819Z",
     "iopub.status.busy": "2025-02-04T17:46:05.695339Z",
     "iopub.status.idle": "2025-02-04T17:46:05.900226Z",
     "shell.execute_reply": "2025-02-04T17:46:05.899280Z"
    },
    "papermill": {
     "duration": 0.209841,
     "end_time": "2025-02-04T17:46:05.901545",
     "exception": false,
     "start_time": "2025-02-04T17:46:05.691704",
     "status": "completed"
    },
    "tags": []
   },
   "outputs": [
    {
     "name": "stdout",
     "output_type": "stream",
     "text": [
      "GPUs found: [PhysicalDevice(name='/physical_device:GPU:0', device_type='GPU')]\n"
     ]
    }
   ],
   "source": [
    "import tensorflow as tf\n",
    "\n",
    "# Check for GPUs\n",
    "gpus = tf.config.list_physical_devices('GPU')\n",
    "if gpus:\n",
    "    try:\n",
    "        # Enable dynamic memory allocation for each GPU\n",
    "        for gpu in gpus:\n",
    "            tf.config.experimental.set_memory_growth(gpu, True)\n",
    "        print(f\"GPUs found: {gpus}\")\n",
    "    except RuntimeError as e:\n",
    "        print(e)\n",
    "else:\n",
    "    print(\"No GPU found. Please select a GPU runtime in the Kaggle Notebook settings.\")"
   ]
  },
  {
   "cell_type": "code",
   "execution_count": 4,
   "id": "cd694f0c",
   "metadata": {
    "execution": {
     "iopub.execute_input": "2025-02-04T17:46:05.908422Z",
     "iopub.status.busy": "2025-02-04T17:46:05.908134Z",
     "iopub.status.idle": "2025-02-04T17:46:05.913471Z",
     "shell.execute_reply": "2025-02-04T17:46:05.912679Z"
    },
    "papermill": {
     "duration": 0.01003,
     "end_time": "2025-02-04T17:46:05.914750",
     "exception": false,
     "start_time": "2025-02-04T17:46:05.904720",
     "status": "completed"
    },
    "tags": []
   },
   "outputs": [],
   "source": [
    "# Enable mixed precision training to reduce memory usage\n",
    "from tensorflow.keras.mixed_precision import set_global_policy\n",
    "set_global_policy('mixed_float16')\n",
    "\n",
    "# Set target image size and batch size\n",
    "TARGET_SIZE = (32, 32)   # Use a low resolution\n",
    "BATCH_SIZE = 16"
   ]
  },
  {
   "cell_type": "code",
   "execution_count": 5,
   "id": "f14839a0",
   "metadata": {
    "execution": {
     "iopub.execute_input": "2025-02-04T17:46:05.921285Z",
     "iopub.status.busy": "2025-02-04T17:46:05.921035Z",
     "iopub.status.idle": "2025-02-04T17:46:05.928008Z",
     "shell.execute_reply": "2025-02-04T17:46:05.927224Z"
    },
    "papermill": {
     "duration": 0.011691,
     "end_time": "2025-02-04T17:46:05.929376",
     "exception": false,
     "start_time": "2025-02-04T17:46:05.917685",
     "status": "completed"
    },
    "tags": []
   },
   "outputs": [],
   "source": [
    "def load_npz_data(npz_path):\n",
    "    \"\"\"\n",
    "    Load train, val, and test arrays from a given .npz file.\n",
    "    Expected keys: 'train_images', 'train_labels', 'val_images', 'val_labels', 'test_images', 'test_labels'\n",
    "    \"\"\"\n",
    "    data = np.load(npz_path)\n",
    "    train_images = data['train_images']\n",
    "    train_labels = data['train_labels']\n",
    "    val_images = data['val_images']\n",
    "    val_labels = data['val_labels']\n",
    "    test_images = data['test_images']\n",
    "    test_labels = data['test_labels']\n",
    "    return (train_images, train_labels), (val_images, val_labels), (test_images, test_labels)\n",
    "\n",
    "def create_tf_dataset_from_numpy(images, labels, batch_size=BATCH_SIZE, augment=False):\n",
    "    \"\"\"\n",
    "    Convert numpy arrays to a tf.data.Dataset:\n",
    "      - Resize images to TARGET_SIZE.\n",
    "      - Convert grayscale images (N, H, W) or (N, H, W, 1) to 3-channel RGB.\n",
    "      - Optionally apply data augmentation.\n",
    "    \"\"\"\n",
    "    if images.ndim == 3:\n",
    "        images = np.expand_dims(images, axis=-1)\n",
    "    if images.shape[-1] == 1:\n",
    "        images = np.tile(images, (1, 1, 1, 3))\n",
    "    \n",
    "    images = images.astype(np.float32) / 255.0  # Normalize\n",
    "\n",
    "    def _process(image, label):\n",
    "        image = tf.image.resize(image, TARGET_SIZE)\n",
    "        if augment:\n",
    "            image = tf.image.random_flip_left_right(image)\n",
    "            image = tf.image.random_flip_up_down(image)\n",
    "            image = tf.image.random_brightness(image, max_delta=0.1)\n",
    "            image = tf.image.random_contrast(image, lower=0.9, upper=1.1)\n",
    "        return image, label\n",
    "\n",
    "    ds = tf.data.Dataset.from_tensor_slices((images, labels))\n",
    "    ds = ds.map(_process, num_parallel_calls=tf.data.AUTOTUNE)\n",
    "    ds = ds.shuffle(buffer_size=len(images))\n",
    "    ds = ds.batch(batch_size)\n",
    "    ds = ds.prefetch(buffer_size=tf.data.AUTOTUNE)\n",
    "    return ds"
   ]
  },
  {
   "cell_type": "code",
   "execution_count": 6,
   "id": "9c7be8ee",
   "metadata": {
    "execution": {
     "iopub.execute_input": "2025-02-04T17:46:05.935824Z",
     "iopub.status.busy": "2025-02-04T17:46:05.935615Z",
     "iopub.status.idle": "2025-02-04T17:46:40.626870Z",
     "shell.execute_reply": "2025-02-04T17:46:40.625907Z"
    },
    "papermill": {
     "duration": 34.69793,
     "end_time": "2025-02-04T17:46:40.630255",
     "exception": false,
     "start_time": "2025-02-04T17:46:05.932325",
     "status": "completed"
    },
    "tags": []
   },
   "outputs": [
    {
     "name": "stdout",
     "output_type": "stream",
     "text": [
      "pathmnist: Loaded 89996 train, 10004 val, 7180 test samples\n",
      "dermamnist: Loaded 7007 train, 1003 val, 2005 test samples\n",
      "octmnist: Loaded 97477 train, 10832 val, 1000 test samples\n",
      "pneumoniamnist: Loaded 4708 train, 524 val, 624 test samples\n",
      "retinamnist: Loaded 1080 train, 120 val, 400 test samples\n",
      "breastmnist: Loaded 546 train, 78 val, 156 test samples\n",
      "bloodmnist: Loaded 11959 train, 1712 val, 3421 test samples\n",
      "tissuemnist: Loaded 165466 train, 23640 val, 47280 test samples\n",
      "organamnist: Loaded 34581 train, 6491 val, 17778 test samples\n",
      "organcmnist: Loaded 13000 train, 2392 val, 8268 test samples\n",
      "organsmnist: Loaded 13940 train, 2452 val, 8829 test samples\n",
      "Total test samples across all tasks: 96941\n"
     ]
    }
   ],
   "source": [
    "# Set base path for Kaggle data\n",
    "base_path = Path(\"/kaggle/input/tensor-reloaded-multi-task-med-mnist/data\")\n",
    "\n",
    "# Define the 11 task names\n",
    "task_names = [\n",
    "    \"pathmnist\",\n",
    "    \"dermamnist\",\n",
    "    \"octmnist\",\n",
    "    \"pneumoniamnist\",\n",
    "    \"retinamnist\",\n",
    "    \"breastmnist\",\n",
    "    \"bloodmnist\",\n",
    "    \"tissuemnist\",\n",
    "    \"organamnist\",\n",
    "    \"organcmnist\",\n",
    "    \"organsmnist\"\n",
    "]\n",
    "\n",
    "# Map each task to its corresponding .npz file\n",
    "task_to_npz = {task: base_path / f\"{task}.npz\" for task in task_names}\n",
    "\n",
    "# Create dictionaries for train, val, and test datasets\n",
    "train_datasets_tf = {}\n",
    "val_datasets_tf = {}\n",
    "test_datasets_tf = {}\n",
    "\n",
    "for task in task_names:\n",
    "    npz_file = task_to_npz[task]\n",
    "    (train_imgs, train_lbls), (val_imgs, val_lbls), (test_imgs, test_lbls) = load_npz_data(npz_file)\n",
    "    train_datasets_tf[task] = create_tf_dataset_from_numpy(train_imgs, train_lbls, BATCH_SIZE, augment=True)\n",
    "    val_datasets_tf[task]   = create_tf_dataset_from_numpy(val_imgs, val_lbls, BATCH_SIZE, augment=False)\n",
    "    test_datasets_tf[task]  = create_tf_dataset_from_numpy(test_imgs, test_lbls, BATCH_SIZE, augment=False)\n",
    "    print(f\"{task}: Loaded {len(train_imgs)} train, {len(val_imgs)} val, {len(test_imgs)} test samples\")\n",
    "\n",
    "# Verify total test samples across all tasks\n",
    "total_test_samples = 0\n",
    "for task in task_names:\n",
    "    for images, labels in test_datasets_tf[task]:\n",
    "        total_test_samples += images.shape[0]\n",
    "print(\"Total test samples across all tasks:\", total_test_samples)"
   ]
  },
  {
   "cell_type": "code",
   "execution_count": 7,
   "id": "df6891cd",
   "metadata": {
    "execution": {
     "iopub.execute_input": "2025-02-04T17:46:40.637797Z",
     "iopub.status.busy": "2025-02-04T17:46:40.637529Z",
     "iopub.status.idle": "2025-02-04T17:46:42.930920Z",
     "shell.execute_reply": "2025-02-04T17:46:42.930264Z"
    },
    "papermill": {
     "duration": 2.298456,
     "end_time": "2025-02-04T17:46:42.932137",
     "exception": false,
     "start_time": "2025-02-04T17:46:40.633681",
     "status": "completed"
    },
    "tags": []
   },
   "outputs": [
    {
     "data": {
      "text/html": [
       "<pre style=\"white-space:pre;overflow-x:auto;line-height:normal;font-family:Menlo,'DejaVu Sans Mono',consolas,'Courier New',monospace\"><span style=\"font-weight: bold\">Model: \"multi_task_keras_model\"</span>\n",
       "</pre>\n"
      ],
      "text/plain": [
       "\u001b[1mModel: \"multi_task_keras_model\"\u001b[0m\n"
      ]
     },
     "metadata": {},
     "output_type": "display_data"
    },
    {
     "data": {
      "text/html": [
       "<pre style=\"white-space:pre;overflow-x:auto;line-height:normal;font-family:Menlo,'DejaVu Sans Mono',consolas,'Courier New',monospace\">┏━━━━━━━━━━━━━━━━━━━━━━━━━━━━━━━━━━━━━━┳━━━━━━━━━━━━━━━━━━━━━━━━━━━━━┳━━━━━━━━━━━━━━━━━┓\n",
       "┃<span style=\"font-weight: bold\"> Layer (type)                         </span>┃<span style=\"font-weight: bold\"> Output Shape                </span>┃<span style=\"font-weight: bold\">         Param # </span>┃\n",
       "┡━━━━━━━━━━━━━━━━━━━━━━━━━━━━━━━━━━━━━━╇━━━━━━━━━━━━━━━━━━━━━━━━━━━━━╇━━━━━━━━━━━━━━━━━┩\n",
       "│ conv2d (<span style=\"color: #0087ff; text-decoration-color: #0087ff\">Conv2D</span>)                      │ (<span style=\"color: #00af00; text-decoration-color: #00af00\">1</span>, <span style=\"color: #00af00; text-decoration-color: #00af00\">32</span>, <span style=\"color: #00af00; text-decoration-color: #00af00\">32</span>, <span style=\"color: #00af00; text-decoration-color: #00af00\">32</span>)             │             <span style=\"color: #00af00; text-decoration-color: #00af00\">896</span> │\n",
       "├──────────────────────────────────────┼─────────────────────────────┼─────────────────┤\n",
       "│ max_pooling2d (<span style=\"color: #0087ff; text-decoration-color: #0087ff\">MaxPooling2D</span>)         │ (<span style=\"color: #00af00; text-decoration-color: #00af00\">1</span>, <span style=\"color: #00af00; text-decoration-color: #00af00\">16</span>, <span style=\"color: #00af00; text-decoration-color: #00af00\">16</span>, <span style=\"color: #00af00; text-decoration-color: #00af00\">32</span>)             │               <span style=\"color: #00af00; text-decoration-color: #00af00\">0</span> │\n",
       "├──────────────────────────────────────┼─────────────────────────────┼─────────────────┤\n",
       "│ conv2d_1 (<span style=\"color: #0087ff; text-decoration-color: #0087ff\">Conv2D</span>)                    │ (<span style=\"color: #00af00; text-decoration-color: #00af00\">1</span>, <span style=\"color: #00af00; text-decoration-color: #00af00\">16</span>, <span style=\"color: #00af00; text-decoration-color: #00af00\">16</span>, <span style=\"color: #00af00; text-decoration-color: #00af00\">64</span>)             │          <span style=\"color: #00af00; text-decoration-color: #00af00\">18,496</span> │\n",
       "├──────────────────────────────────────┼─────────────────────────────┼─────────────────┤\n",
       "│ max_pooling2d_1 (<span style=\"color: #0087ff; text-decoration-color: #0087ff\">MaxPooling2D</span>)       │ (<span style=\"color: #00af00; text-decoration-color: #00af00\">1</span>, <span style=\"color: #00af00; text-decoration-color: #00af00\">8</span>, <span style=\"color: #00af00; text-decoration-color: #00af00\">8</span>, <span style=\"color: #00af00; text-decoration-color: #00af00\">64</span>)               │               <span style=\"color: #00af00; text-decoration-color: #00af00\">0</span> │\n",
       "├──────────────────────────────────────┼─────────────────────────────┼─────────────────┤\n",
       "│ flatten (<span style=\"color: #0087ff; text-decoration-color: #0087ff\">Flatten</span>)                    │ (<span style=\"color: #00af00; text-decoration-color: #00af00\">1</span>, <span style=\"color: #00af00; text-decoration-color: #00af00\">4096</span>)                   │               <span style=\"color: #00af00; text-decoration-color: #00af00\">0</span> │\n",
       "├──────────────────────────────────────┼─────────────────────────────┼─────────────────┤\n",
       "│ head_pathmnist (<span style=\"color: #0087ff; text-decoration-color: #0087ff\">Dense</span>)               │ (<span style=\"color: #00af00; text-decoration-color: #00af00\">1</span>, <span style=\"color: #00af00; text-decoration-color: #00af00\">9</span>)                      │          <span style=\"color: #00af00; text-decoration-color: #00af00\">36,873</span> │\n",
       "├──────────────────────────────────────┼─────────────────────────────┼─────────────────┤\n",
       "│ head_dermamnist (<span style=\"color: #0087ff; text-decoration-color: #0087ff\">Dense</span>)              │ (<span style=\"color: #00af00; text-decoration-color: #00af00\">1</span>, <span style=\"color: #00af00; text-decoration-color: #00af00\">7</span>)                      │          <span style=\"color: #00af00; text-decoration-color: #00af00\">28,679</span> │\n",
       "├──────────────────────────────────────┼─────────────────────────────┼─────────────────┤\n",
       "│ head_octmnist (<span style=\"color: #0087ff; text-decoration-color: #0087ff\">Dense</span>)                │ (<span style=\"color: #00af00; text-decoration-color: #00af00\">1</span>, <span style=\"color: #00af00; text-decoration-color: #00af00\">4</span>)                      │          <span style=\"color: #00af00; text-decoration-color: #00af00\">16,388</span> │\n",
       "├──────────────────────────────────────┼─────────────────────────────┼─────────────────┤\n",
       "│ head_pneumoniamnist (<span style=\"color: #0087ff; text-decoration-color: #0087ff\">Dense</span>)          │ (<span style=\"color: #00af00; text-decoration-color: #00af00\">1</span>, <span style=\"color: #00af00; text-decoration-color: #00af00\">2</span>)                      │           <span style=\"color: #00af00; text-decoration-color: #00af00\">8,194</span> │\n",
       "├──────────────────────────────────────┼─────────────────────────────┼─────────────────┤\n",
       "│ head_retinamnist (<span style=\"color: #0087ff; text-decoration-color: #0087ff\">Dense</span>)             │ (<span style=\"color: #00af00; text-decoration-color: #00af00\">1</span>, <span style=\"color: #00af00; text-decoration-color: #00af00\">5</span>)                      │          <span style=\"color: #00af00; text-decoration-color: #00af00\">20,485</span> │\n",
       "├──────────────────────────────────────┼─────────────────────────────┼─────────────────┤\n",
       "│ head_breastmnist (<span style=\"color: #0087ff; text-decoration-color: #0087ff\">Dense</span>)             │ (<span style=\"color: #00af00; text-decoration-color: #00af00\">1</span>, <span style=\"color: #00af00; text-decoration-color: #00af00\">2</span>)                      │           <span style=\"color: #00af00; text-decoration-color: #00af00\">8,194</span> │\n",
       "├──────────────────────────────────────┼─────────────────────────────┼─────────────────┤\n",
       "│ head_bloodmnist (<span style=\"color: #0087ff; text-decoration-color: #0087ff\">Dense</span>)              │ (<span style=\"color: #00af00; text-decoration-color: #00af00\">1</span>, <span style=\"color: #00af00; text-decoration-color: #00af00\">8</span>)                      │          <span style=\"color: #00af00; text-decoration-color: #00af00\">32,776</span> │\n",
       "├──────────────────────────────────────┼─────────────────────────────┼─────────────────┤\n",
       "│ head_tissuemnist (<span style=\"color: #0087ff; text-decoration-color: #0087ff\">Dense</span>)             │ (<span style=\"color: #00af00; text-decoration-color: #00af00\">1</span>, <span style=\"color: #00af00; text-decoration-color: #00af00\">8</span>)                      │          <span style=\"color: #00af00; text-decoration-color: #00af00\">32,776</span> │\n",
       "├──────────────────────────────────────┼─────────────────────────────┼─────────────────┤\n",
       "│ head_organamnist (<span style=\"color: #0087ff; text-decoration-color: #0087ff\">Dense</span>)             │ (<span style=\"color: #00af00; text-decoration-color: #00af00\">1</span>, <span style=\"color: #00af00; text-decoration-color: #00af00\">11</span>)                     │          <span style=\"color: #00af00; text-decoration-color: #00af00\">45,067</span> │\n",
       "├──────────────────────────────────────┼─────────────────────────────┼─────────────────┤\n",
       "│ head_organcmnist (<span style=\"color: #0087ff; text-decoration-color: #0087ff\">Dense</span>)             │ (<span style=\"color: #00af00; text-decoration-color: #00af00\">1</span>, <span style=\"color: #00af00; text-decoration-color: #00af00\">11</span>)                     │          <span style=\"color: #00af00; text-decoration-color: #00af00\">45,067</span> │\n",
       "├──────────────────────────────────────┼─────────────────────────────┼─────────────────┤\n",
       "│ head_organsmnist (<span style=\"color: #0087ff; text-decoration-color: #0087ff\">Dense</span>)             │ (<span style=\"color: #00af00; text-decoration-color: #00af00\">1</span>, <span style=\"color: #00af00; text-decoration-color: #00af00\">11</span>)                     │          <span style=\"color: #00af00; text-decoration-color: #00af00\">45,067</span> │\n",
       "└──────────────────────────────────────┴─────────────────────────────┴─────────────────┘\n",
       "</pre>\n"
      ],
      "text/plain": [
       "┏━━━━━━━━━━━━━━━━━━━━━━━━━━━━━━━━━━━━━━┳━━━━━━━━━━━━━━━━━━━━━━━━━━━━━┳━━━━━━━━━━━━━━━━━┓\n",
       "┃\u001b[1m \u001b[0m\u001b[1mLayer (type)                        \u001b[0m\u001b[1m \u001b[0m┃\u001b[1m \u001b[0m\u001b[1mOutput Shape               \u001b[0m\u001b[1m \u001b[0m┃\u001b[1m \u001b[0m\u001b[1m        Param #\u001b[0m\u001b[1m \u001b[0m┃\n",
       "┡━━━━━━━━━━━━━━━━━━━━━━━━━━━━━━━━━━━━━━╇━━━━━━━━━━━━━━━━━━━━━━━━━━━━━╇━━━━━━━━━━━━━━━━━┩\n",
       "│ conv2d (\u001b[38;5;33mConv2D\u001b[0m)                      │ (\u001b[38;5;34m1\u001b[0m, \u001b[38;5;34m32\u001b[0m, \u001b[38;5;34m32\u001b[0m, \u001b[38;5;34m32\u001b[0m)             │             \u001b[38;5;34m896\u001b[0m │\n",
       "├──────────────────────────────────────┼─────────────────────────────┼─────────────────┤\n",
       "│ max_pooling2d (\u001b[38;5;33mMaxPooling2D\u001b[0m)         │ (\u001b[38;5;34m1\u001b[0m, \u001b[38;5;34m16\u001b[0m, \u001b[38;5;34m16\u001b[0m, \u001b[38;5;34m32\u001b[0m)             │               \u001b[38;5;34m0\u001b[0m │\n",
       "├──────────────────────────────────────┼─────────────────────────────┼─────────────────┤\n",
       "│ conv2d_1 (\u001b[38;5;33mConv2D\u001b[0m)                    │ (\u001b[38;5;34m1\u001b[0m, \u001b[38;5;34m16\u001b[0m, \u001b[38;5;34m16\u001b[0m, \u001b[38;5;34m64\u001b[0m)             │          \u001b[38;5;34m18,496\u001b[0m │\n",
       "├──────────────────────────────────────┼─────────────────────────────┼─────────────────┤\n",
       "│ max_pooling2d_1 (\u001b[38;5;33mMaxPooling2D\u001b[0m)       │ (\u001b[38;5;34m1\u001b[0m, \u001b[38;5;34m8\u001b[0m, \u001b[38;5;34m8\u001b[0m, \u001b[38;5;34m64\u001b[0m)               │               \u001b[38;5;34m0\u001b[0m │\n",
       "├──────────────────────────────────────┼─────────────────────────────┼─────────────────┤\n",
       "│ flatten (\u001b[38;5;33mFlatten\u001b[0m)                    │ (\u001b[38;5;34m1\u001b[0m, \u001b[38;5;34m4096\u001b[0m)                   │               \u001b[38;5;34m0\u001b[0m │\n",
       "├──────────────────────────────────────┼─────────────────────────────┼─────────────────┤\n",
       "│ head_pathmnist (\u001b[38;5;33mDense\u001b[0m)               │ (\u001b[38;5;34m1\u001b[0m, \u001b[38;5;34m9\u001b[0m)                      │          \u001b[38;5;34m36,873\u001b[0m │\n",
       "├──────────────────────────────────────┼─────────────────────────────┼─────────────────┤\n",
       "│ head_dermamnist (\u001b[38;5;33mDense\u001b[0m)              │ (\u001b[38;5;34m1\u001b[0m, \u001b[38;5;34m7\u001b[0m)                      │          \u001b[38;5;34m28,679\u001b[0m │\n",
       "├──────────────────────────────────────┼─────────────────────────────┼─────────────────┤\n",
       "│ head_octmnist (\u001b[38;5;33mDense\u001b[0m)                │ (\u001b[38;5;34m1\u001b[0m, \u001b[38;5;34m4\u001b[0m)                      │          \u001b[38;5;34m16,388\u001b[0m │\n",
       "├──────────────────────────────────────┼─────────────────────────────┼─────────────────┤\n",
       "│ head_pneumoniamnist (\u001b[38;5;33mDense\u001b[0m)          │ (\u001b[38;5;34m1\u001b[0m, \u001b[38;5;34m2\u001b[0m)                      │           \u001b[38;5;34m8,194\u001b[0m │\n",
       "├──────────────────────────────────────┼─────────────────────────────┼─────────────────┤\n",
       "│ head_retinamnist (\u001b[38;5;33mDense\u001b[0m)             │ (\u001b[38;5;34m1\u001b[0m, \u001b[38;5;34m5\u001b[0m)                      │          \u001b[38;5;34m20,485\u001b[0m │\n",
       "├──────────────────────────────────────┼─────────────────────────────┼─────────────────┤\n",
       "│ head_breastmnist (\u001b[38;5;33mDense\u001b[0m)             │ (\u001b[38;5;34m1\u001b[0m, \u001b[38;5;34m2\u001b[0m)                      │           \u001b[38;5;34m8,194\u001b[0m │\n",
       "├──────────────────────────────────────┼─────────────────────────────┼─────────────────┤\n",
       "│ head_bloodmnist (\u001b[38;5;33mDense\u001b[0m)              │ (\u001b[38;5;34m1\u001b[0m, \u001b[38;5;34m8\u001b[0m)                      │          \u001b[38;5;34m32,776\u001b[0m │\n",
       "├──────────────────────────────────────┼─────────────────────────────┼─────────────────┤\n",
       "│ head_tissuemnist (\u001b[38;5;33mDense\u001b[0m)             │ (\u001b[38;5;34m1\u001b[0m, \u001b[38;5;34m8\u001b[0m)                      │          \u001b[38;5;34m32,776\u001b[0m │\n",
       "├──────────────────────────────────────┼─────────────────────────────┼─────────────────┤\n",
       "│ head_organamnist (\u001b[38;5;33mDense\u001b[0m)             │ (\u001b[38;5;34m1\u001b[0m, \u001b[38;5;34m11\u001b[0m)                     │          \u001b[38;5;34m45,067\u001b[0m │\n",
       "├──────────────────────────────────────┼─────────────────────────────┼─────────────────┤\n",
       "│ head_organcmnist (\u001b[38;5;33mDense\u001b[0m)             │ (\u001b[38;5;34m1\u001b[0m, \u001b[38;5;34m11\u001b[0m)                     │          \u001b[38;5;34m45,067\u001b[0m │\n",
       "├──────────────────────────────────────┼─────────────────────────────┼─────────────────┤\n",
       "│ head_organsmnist (\u001b[38;5;33mDense\u001b[0m)             │ (\u001b[38;5;34m1\u001b[0m, \u001b[38;5;34m11\u001b[0m)                     │          \u001b[38;5;34m45,067\u001b[0m │\n",
       "└──────────────────────────────────────┴─────────────────────────────┴─────────────────┘\n"
      ]
     },
     "metadata": {},
     "output_type": "display_data"
    },
    {
     "data": {
      "text/html": [
       "<pre style=\"white-space:pre;overflow-x:auto;line-height:normal;font-family:Menlo,'DejaVu Sans Mono',consolas,'Courier New',monospace\"><span style=\"font-weight: bold\"> Total params: </span><span style=\"color: #00af00; text-decoration-color: #00af00\">338,958</span> (1.29 MB)\n",
       "</pre>\n"
      ],
      "text/plain": [
       "\u001b[1m Total params: \u001b[0m\u001b[38;5;34m338,958\u001b[0m (1.29 MB)\n"
      ]
     },
     "metadata": {},
     "output_type": "display_data"
    },
    {
     "data": {
      "text/html": [
       "<pre style=\"white-space:pre;overflow-x:auto;line-height:normal;font-family:Menlo,'DejaVu Sans Mono',consolas,'Courier New',monospace\"><span style=\"font-weight: bold\"> Trainable params: </span><span style=\"color: #00af00; text-decoration-color: #00af00\">338,958</span> (1.29 MB)\n",
       "</pre>\n"
      ],
      "text/plain": [
       "\u001b[1m Trainable params: \u001b[0m\u001b[38;5;34m338,958\u001b[0m (1.29 MB)\n"
      ]
     },
     "metadata": {},
     "output_type": "display_data"
    },
    {
     "data": {
      "text/html": [
       "<pre style=\"white-space:pre;overflow-x:auto;line-height:normal;font-family:Menlo,'DejaVu Sans Mono',consolas,'Courier New',monospace\"><span style=\"font-weight: bold\"> Non-trainable params: </span><span style=\"color: #00af00; text-decoration-color: #00af00\">0</span> (0.00 B)\n",
       "</pre>\n"
      ],
      "text/plain": [
       "\u001b[1m Non-trainable params: \u001b[0m\u001b[38;5;34m0\u001b[0m (0.00 B)\n"
      ]
     },
     "metadata": {},
     "output_type": "display_data"
    }
   ],
   "source": [
    "class MultiTaskKerasModel(keras.Model):\n",
    "    def __init__(self, task_names, data_flag_to_info):\n",
    "        super().__init__()\n",
    "        self.task_names = task_names\n",
    "        self.conv1 = layers.Conv2D(32, kernel_size=3, padding='same', activation='relu')\n",
    "        self.pool1 = layers.MaxPooling2D()\n",
    "        self.conv2 = layers.Conv2D(64, kernel_size=3, padding='same', activation='relu')\n",
    "        self.pool2 = layers.MaxPooling2D()\n",
    "        self.flatten = layers.Flatten()\n",
    "        self.heads = {}\n",
    "        for task in task_names:\n",
    "            n_classes = len(data_flag_to_info[task]['label'])\n",
    "            self.heads[task] = layers.Dense(n_classes, name=f'head_{task}')\n",
    "        self.heads = dict(self.heads)\n",
    "    \n",
    "    def build(self, input_shape):\n",
    "        # Create a concrete shape by replacing None with 1 in the batch dimension.\n",
    "        concrete_shape = (1,) + input_shape[1:]\n",
    "        _ = self.call(tf.zeros(concrete_shape), training=False)\n",
    "        super().build(input_shape)\n",
    "    \n",
    "    def call(self, x, **kwargs):\n",
    "        # Accept extra keyword arguments (e.g., task, training)\n",
    "        task = kwargs.get('task', None)\n",
    "        training = kwargs.get('training', False)\n",
    "        \n",
    "        x = self.conv1(x, training=training)\n",
    "        x = self.pool1(x)\n",
    "        x = self.conv2(x, training=training)\n",
    "        x = self.pool2(x)\n",
    "        x = self.flatten(x)\n",
    "        \n",
    "        if task is not None:\n",
    "            return self.heads[task](x)\n",
    "        else:\n",
    "            outputs = {}\n",
    "            for t in self.task_names:\n",
    "                outputs[t] = self.heads[t](x)\n",
    "            return outputs\n",
    "\n",
    "# Use MedMNIST INFO for metadata (number of classes)\n",
    "data_flag_to_info = {task: INFO[task] for task in task_names}\n",
    "\n",
    "# Instantiate and build the model with a concrete input shape.\n",
    "model = MultiTaskKerasModel(task_names, data_flag_to_info)\n",
    "model.build(input_shape=(None, TARGET_SIZE[0], TARGET_SIZE[1], 3))\n",
    "model.summary()"
   ]
  },
  {
   "cell_type": "code",
   "execution_count": 8,
   "id": "86081374",
   "metadata": {
    "execution": {
     "iopub.execute_input": "2025-02-04T17:46:42.941226Z",
     "iopub.status.busy": "2025-02-04T17:46:42.940941Z",
     "iopub.status.idle": "2025-02-04T17:46:44.416947Z",
     "shell.execute_reply": "2025-02-04T17:46:44.416239Z"
    },
    "papermill": {
     "duration": 1.482074,
     "end_time": "2025-02-04T17:46:44.418495",
     "exception": false,
     "start_time": "2025-02-04T17:46:42.936421",
     "status": "completed"
    },
    "tags": []
   },
   "outputs": [],
   "source": [
    "# Create a dummy input of shape (1, 32, 32, 3)\n",
    "dummy_input = tf.random.normal((1, 32, 32, 3))\n",
    "\n",
    "# Trigger a forward pass for each task to build all variables.\n",
    "for t in task_names:\n",
    "    _ = model(dummy_input, task=t, training=False)\n",
    "\n",
    "# Instantiate the optimizer with a cosine decay learning rate scheduler.\n",
    "lr_schedule = tf.keras.optimizers.schedules.CosineDecayRestarts(\n",
    "    initial_learning_rate=1e-3,\n",
    "    first_decay_steps=1000,\n",
    "    t_mul=2.0,\n",
    "    m_mul=1.0,\n",
    "    alpha=1e-5)\n",
    "optimizer = tf.keras.optimizers.Adam(learning_rate=lr_schedule)\n",
    "\n",
    "# Force the optimizer to register all current trainable variables by applying zero gradients.\n",
    "dummy_grads_vars = [(tf.zeros_like(var), var) for var in model.trainable_variables]\n",
    "optimizer.apply_gradients(dummy_grads_vars)\n",
    "\n",
    "loss_fn = tf.keras.losses.SparseCategoricalCrossentropy(from_logits=True)\n",
    "\n",
    "# Early stopping parameters\n",
    "total_epochs = 20\n",
    "patience = 5\n",
    "best_hmean_f1 = -np.inf\n",
    "patience_counter = 0\n",
    "best_weights = None"
   ]
  },
  {
   "cell_type": "code",
   "execution_count": 9,
   "id": "40d40623",
   "metadata": {
    "execution": {
     "iopub.execute_input": "2025-02-04T17:46:44.427797Z",
     "iopub.status.busy": "2025-02-04T17:46:44.427546Z",
     "iopub.status.idle": "2025-02-04T20:52:05.353215Z",
     "shell.execute_reply": "2025-02-04T20:52:05.352160Z"
    },
    "papermill": {
     "duration": 11120.932092,
     "end_time": "2025-02-04T20:52:05.354932",
     "exception": false,
     "start_time": "2025-02-04T17:46:44.422840",
     "status": "completed"
    },
    "tags": []
   },
   "outputs": [
    {
     "name": "stdout",
     "output_type": "stream",
     "text": [
      "\n",
      "Starting Training...\n",
      "\n",
      "Epoch 1/20\n",
      "  Training Loss: 1.0695\n",
      "  pathmnist Macro F1: 0.0317\n",
      "  dermamnist Macro F1: 0.1171\n",
      "  octmnist Macro F1: 0.5490\n",
      "  pneumoniamnist Macro F1: 0.6437\n",
      "  retinamnist Macro F1: 0.3376\n",
      "  breastmnist Macro F1: 0.5155\n",
      "  bloodmnist Macro F1: 0.3383\n",
      "  tissuemnist Macro F1: 0.2213\n",
      "  organamnist Macro F1: 0.5638\n",
      "  organcmnist Macro F1: 0.6717\n",
      "  organsmnist Macro F1: 0.6684\n",
      "  Harmonic Mean Macro F1: 0.1816\n",
      "  Improvement detected. Saving best model weights.\n",
      "\n",
      "Epoch 2/20\n",
      "  Training Loss: 0.9181\n",
      "  pathmnist Macro F1: 0.0329\n",
      "  dermamnist Macro F1: 0.1170\n",
      "  octmnist Macro F1: 0.3663\n",
      "  pneumoniamnist Macro F1: 0.8457\n",
      "  retinamnist Macro F1: 0.2779\n",
      "  breastmnist Macro F1: 0.4708\n",
      "  bloodmnist Macro F1: 0.4694\n",
      "  tissuemnist Macro F1: 0.2681\n",
      "  organamnist Macro F1: 0.6230\n",
      "  organcmnist Macro F1: 0.7280\n",
      "  organsmnist Macro F1: 0.7223\n",
      "  Harmonic Mean Macro F1: 0.1869\n",
      "  Improvement detected. Saving best model weights.\n",
      "\n",
      "Epoch 3/20\n",
      "  Training Loss: 0.8955\n",
      "  pathmnist Macro F1: 0.0898\n",
      "  dermamnist Macro F1: 0.1273\n",
      "  octmnist Macro F1: 0.3699\n",
      "  pneumoniamnist Macro F1: 0.9051\n",
      "  retinamnist Macro F1: 0.2054\n",
      "  breastmnist Macro F1: 0.7833\n",
      "  bloodmnist Macro F1: 0.6388\n",
      "  tissuemnist Macro F1: 0.3110\n",
      "  organamnist Macro F1: 0.6511\n",
      "  organcmnist Macro F1: 0.7136\n",
      "  organsmnist Macro F1: 0.7018\n",
      "  Harmonic Mean Macro F1: 0.2888\n",
      "  Improvement detected. Saving best model weights.\n",
      "\n",
      "Epoch 4/20\n",
      "  Training Loss: 0.8186\n",
      "  pathmnist Macro F1: 0.1560\n",
      "  dermamnist Macro F1: 0.1509\n",
      "  octmnist Macro F1: 0.3747\n",
      "  pneumoniamnist Macro F1: 0.8703\n",
      "  retinamnist Macro F1: 0.1774\n",
      "  breastmnist Macro F1: 0.5568\n",
      "  bloodmnist Macro F1: 0.6429\n",
      "  tissuemnist Macro F1: 0.2701\n",
      "  organamnist Macro F1: 0.7714\n",
      "  organcmnist Macro F1: 0.7531\n",
      "  organsmnist Macro F1: 0.7396\n",
      "  Harmonic Mean Macro F1: 0.3281\n",
      "  Improvement detected. Saving best model weights.\n",
      "\n",
      "Epoch 5/20\n",
      "  Training Loss: 0.8237\n",
      "  pathmnist Macro F1: 0.2437\n",
      "  dermamnist Macro F1: 0.2524\n",
      "  octmnist Macro F1: 0.3586\n",
      "  pneumoniamnist Macro F1: 0.8955\n",
      "  retinamnist Macro F1: 0.1696\n",
      "  breastmnist Macro F1: 0.6641\n",
      "  bloodmnist Macro F1: 0.6737\n",
      "  tissuemnist Macro F1: 0.3233\n",
      "  organamnist Macro F1: 0.7784\n",
      "  organcmnist Macro F1: 0.7717\n",
      "  organsmnist Macro F1: 0.7156\n",
      "  Harmonic Mean Macro F1: 0.3939\n",
      "  Improvement detected. Saving best model weights.\n",
      "\n",
      "Epoch 6/20\n",
      "  Training Loss: 0.7841\n",
      "  pathmnist Macro F1: 0.2165\n",
      "  dermamnist Macro F1: 0.1630\n",
      "  octmnist Macro F1: 0.4793\n",
      "  pneumoniamnist Macro F1: 0.9054\n",
      "  retinamnist Macro F1: 0.1943\n",
      "  breastmnist Macro F1: 0.5155\n",
      "  bloodmnist Macro F1: 0.6506\n",
      "  tissuemnist Macro F1: 0.3431\n",
      "  organamnist Macro F1: 0.7598\n",
      "  organcmnist Macro F1: 0.7904\n",
      "  organsmnist Macro F1: 0.7609\n",
      "  Harmonic Mean Macro F1: 0.3744\n",
      "  No improvement for 1 epoch(s).\n",
      "\n",
      "Epoch 7/20\n",
      "  Training Loss: 0.7539\n",
      "  pathmnist Macro F1: 0.1347\n",
      "  dermamnist Macro F1: 0.1519\n",
      "  octmnist Macro F1: 0.4508\n",
      "  pneumoniamnist Macro F1: 0.8985\n",
      "  retinamnist Macro F1: 0.1565\n",
      "  breastmnist Macro F1: 0.7502\n",
      "  bloodmnist Macro F1: 0.6169\n",
      "  tissuemnist Macro F1: 0.3052\n",
      "  organamnist Macro F1: 0.7616\n",
      "  organcmnist Macro F1: 0.7663\n",
      "  organsmnist Macro F1: 0.7486\n",
      "  Harmonic Mean Macro F1: 0.3244\n",
      "  No improvement for 2 epoch(s).\n",
      "\n",
      "Epoch 8/20\n",
      "  Training Loss: 0.7248\n",
      "  pathmnist Macro F1: 0.1272\n",
      "  dermamnist Macro F1: 0.1363\n",
      "  octmnist Macro F1: 0.4383\n",
      "  pneumoniamnist Macro F1: 0.9140\n",
      "  retinamnist Macro F1: 0.1392\n",
      "  breastmnist Macro F1: 0.6308\n",
      "  bloodmnist Macro F1: 0.6552\n",
      "  tissuemnist Macro F1: 0.3329\n",
      "  organamnist Macro F1: 0.7969\n",
      "  organcmnist Macro F1: 0.7739\n",
      "  organsmnist Macro F1: 0.7548\n",
      "  Harmonic Mean Macro F1: 0.3078\n",
      "  No improvement for 3 epoch(s).\n",
      "\n",
      "Epoch 9/20\n",
      "  Training Loss: 0.7306\n",
      "  pathmnist Macro F1: 0.2277\n",
      "  dermamnist Macro F1: 0.1498\n",
      "  octmnist Macro F1: 0.4747\n",
      "  pneumoniamnist Macro F1: 0.9311\n",
      "  retinamnist Macro F1: 0.2092\n",
      "  breastmnist Macro F1: 0.5951\n",
      "  bloodmnist Macro F1: 0.6369\n",
      "  tissuemnist Macro F1: 0.3854\n",
      "  organamnist Macro F1: 0.7879\n",
      "  organcmnist Macro F1: 0.7914\n",
      "  organsmnist Macro F1: 0.7489\n",
      "  Harmonic Mean Macro F1: 0.3827\n",
      "  No improvement for 4 epoch(s).\n",
      "\n",
      "Epoch 10/20\n",
      "  Training Loss: 0.9319\n",
      "  pathmnist Macro F1: 0.1795\n",
      "  dermamnist Macro F1: 0.1396\n",
      "  octmnist Macro F1: 0.4611\n",
      "  pneumoniamnist Macro F1: 0.8613\n",
      "  retinamnist Macro F1: 0.1256\n",
      "  breastmnist Macro F1: 0.8194\n",
      "  bloodmnist Macro F1: 0.7152\n",
      "  tissuemnist Macro F1: 0.3157\n",
      "  organamnist Macro F1: 0.7892\n",
      "  organcmnist Macro F1: 0.7596\n",
      "  organsmnist Macro F1: 0.7340\n",
      "  Harmonic Mean Macro F1: 0.3258\n",
      "  No improvement for 5 epoch(s).\n",
      "Early stopping triggered.\n",
      "Best model weights restored.\n"
     ]
    }
   ],
   "source": [
    "print(\"\\nStarting Training...\")\n",
    "for epoch in range(total_epochs):\n",
    "    print(f\"\\nEpoch {epoch+1}/{total_epochs}\")\n",
    "    epoch_loss = 0.0\n",
    "    total_batches = 0\n",
    "    \n",
    "    # Training loop: iterate over each task\n",
    "    for task in task_names:\n",
    "        dataset = train_datasets_tf[task]\n",
    "        for images, labels in dataset:\n",
    "            with tf.GradientTape() as tape:\n",
    "                outputs = model(images, task=task, training=True)\n",
    "                loss_value = loss_fn(labels, outputs)\n",
    "            grads = tape.gradient(loss_value, model.trainable_variables)\n",
    "            grads_vars = [(g, v) for g, v in zip(grads, model.trainable_variables) if g is not None]\n",
    "            optimizer.apply_gradients(grads_vars)\n",
    "            epoch_loss += loss_value.numpy()\n",
    "            total_batches += 1\n",
    "    avg_loss = epoch_loss / total_batches if total_batches > 0 else 0.0\n",
    "    print(f\"  Training Loss: {avg_loss:.4f}\")\n",
    "    \n",
    "    # Validation: compute macro F1 for each task\n",
    "    macro_f1_scores = {}\n",
    "    for task in task_names:\n",
    "        all_preds = []\n",
    "        all_labels = []\n",
    "        for images, labels in val_datasets_tf[task]:\n",
    "            outputs = model(images, task=task, training=False)\n",
    "            preds = tf.argmax(outputs, axis=1).numpy()\n",
    "            all_preds.append(preds)\n",
    "            all_labels.append(labels.numpy())\n",
    "        all_preds = np.concatenate(all_preds)\n",
    "        all_labels = np.concatenate(all_labels)\n",
    "        f1 = f1_score(all_labels, all_preds, average='macro')\n",
    "        macro_f1_scores[task] = f1\n",
    "        print(f\"  {task} Macro F1: {f1:.4f}\")\n",
    "    \n",
    "    f1_values = np.array(list(macro_f1_scores.values()))\n",
    "    harmonic_mean_f1 = len(f1_values) / np.sum(1.0 / (f1_values + 1e-8))\n",
    "    print(f\"  Harmonic Mean Macro F1: {harmonic_mean_f1:.4f}\")\n",
    "    \n",
    "    # Early stopping check\n",
    "    if harmonic_mean_f1 > best_hmean_f1:\n",
    "        best_hmean_f1 = harmonic_mean_f1\n",
    "        patience_counter = 0\n",
    "        best_weights = model.get_weights()\n",
    "        print(\"  Improvement detected. Saving best model weights.\")\n",
    "    else:\n",
    "        patience_counter += 1\n",
    "        print(f\"  No improvement for {patience_counter} epoch(s).\")\n",
    "    \n",
    "    if patience_counter >= patience:\n",
    "        print(\"Early stopping triggered.\")\n",
    "        break\n",
    "\n",
    "# Restore best model weights after training\n",
    "if best_weights is not None:\n",
    "    model.set_weights(best_weights)\n",
    "    print(\"Best model weights restored.\")"
   ]
  },
  {
   "cell_type": "code",
   "execution_count": 10,
   "id": "ee74b90d",
   "metadata": {
    "execution": {
     "iopub.execute_input": "2025-02-04T20:52:05.372970Z",
     "iopub.status.busy": "2025-02-04T20:52:05.372717Z",
     "iopub.status.idle": "2025-02-04T20:52:28.912473Z",
     "shell.execute_reply": "2025-02-04T20:52:28.911625Z"
    },
    "papermill": {
     "duration": 23.550692,
     "end_time": "2025-02-04T20:52:28.914470",
     "exception": false,
     "start_time": "2025-02-04T20:52:05.363778",
     "status": "completed"
    },
    "tags": []
   },
   "outputs": [
    {
     "name": "stdout",
     "output_type": "stream",
     "text": [
      "pathmnist: Macro F1 = 0.2437\n",
      "dermamnist: Macro F1 = 0.2524\n",
      "octmnist: Macro F1 = 0.3586\n",
      "pneumoniamnist: Macro F1 = 0.8955\n",
      "retinamnist: Macro F1 = 0.1696\n",
      "breastmnist: Macro F1 = 0.6641\n",
      "bloodmnist: Macro F1 = 0.6737\n",
      "tissuemnist: Macro F1 = 0.3233\n",
      "organamnist: Macro F1 = 0.7784\n",
      "organcmnist: Macro F1 = 0.7717\n",
      "organsmnist: Macro F1 = 0.7156\n",
      "\n",
      "Harmonic Mean Macro F1 across all tasks: 0.3939\n"
     ]
    },
    {
     "data": {
      "image/png": "[encoded data removed]",
      "text/plain": [
       "<Figure size 1200x600 with 1 Axes>"
      ]
     },
     "metadata": {},
     "output_type": "display_data"
    }
   ],
   "source": [
    "macro_f1_scores = {}\n",
    "for task in task_names:\n",
    "    all_preds = []\n",
    "    all_labels = []\n",
    "    for images, labels in val_datasets_tf[task]:\n",
    "        outputs = model(images, task=task, training=False)\n",
    "        preds = tf.argmax(outputs, axis=1).numpy()\n",
    "        all_preds.append(preds)\n",
    "        all_labels.append(labels.numpy())\n",
    "    all_preds = np.concatenate(all_preds)\n",
    "    all_labels = np.concatenate(all_labels)\n",
    "    f1 = f1_score(all_labels, all_preds, average='macro')\n",
    "    macro_f1_scores[task] = f1\n",
    "    print(f\"{task}: Macro F1 = {f1:.4f}\")\n",
    "\n",
    "f1_values = np.array(list(macro_f1_scores.values()))\n",
    "harmonic_mean_f1 = len(f1_values) / np.sum(1.0 / (f1_values + 1e-8))\n",
    "print(f\"\\nHarmonic Mean Macro F1 across all tasks: {harmonic_mean_f1:.4f}\")\n",
    "\n",
    "# Plot results\n",
    "tasks = list(macro_f1_scores.keys())\n",
    "scores = list(macro_f1_scores.values())\n",
    "plt.figure(figsize=(12,6))\n",
    "plt.bar(tasks, scores, color='skyblue')\n",
    "plt.axhline(y=harmonic_mean_f1, color='red', linestyle='--', label=f'Harmonic Mean: {harmonic_mean_f1:.4f}')\n",
    "plt.xlabel(\"Task\")\n",
    "plt.ylabel(\"Macro F1 Score\")\n",
    "plt.title(\"Validation Macro F1 Scores per Task\")\n",
    "plt.xticks(rotation=45)\n",
    "plt.ylim([0,1])\n",
    "plt.legend()\n",
    "plt.show()"
   ]
  },
  {
   "cell_type": "code",
   "execution_count": 11,
   "id": "5ef475ea",
   "metadata": {
    "execution": {
     "iopub.execute_input": "2025-02-04T20:52:28.942321Z",
     "iopub.status.busy": "2025-02-04T20:52:28.942049Z",
     "iopub.status.idle": "2025-02-04T20:53:07.831270Z",
     "shell.execute_reply": "2025-02-04T20:53:07.830344Z"
    },
    "papermill": {
     "duration": 38.910058,
     "end_time": "2025-02-04T20:53:07.841720",
     "exception": false,
     "start_time": "2025-02-04T20:52:28.931662",
     "status": "completed"
    },
    "tags": []
   },
   "outputs": [
    {
     "name": "stdout",
     "output_type": "stream",
     "text": [
      "Total submission rows: 96941\n",
      "Submission file saved as submission.csv\n"
     ]
    }
   ],
   "source": [
    "submission_rows = []\n",
    "global_id = 0\n",
    "\n",
    "for task in task_names:\n",
    "    idx_in_task = 0\n",
    "    for images, _ in test_datasets_tf[task]:\n",
    "        outputs = model(images, task=task, training=False)\n",
    "        preds = tf.argmax(outputs, axis=1).numpy()\n",
    "        for pred in preds:\n",
    "            submission_rows.append([global_id, idx_in_task, task, int(pred)])\n",
    "            global_id += 1\n",
    "            idx_in_task += 1\n",
    "\n",
    "submission_df = pd.DataFrame(submission_rows, columns=[\"id\", \"id_image_in_task\", \"task_name\", \"label\"])\n",
    "print(\"Total submission rows:\", len(submission_df))\n",
    "submission_df.to_csv(\"submission.csv\", index=False)\n",
    "print(\"Submission file saved as submission.csv\")"
   ]
  },
  {
   "cell_type": "code",
   "execution_count": null,
   "id": "993f2502",
   "metadata": {
    "papermill": {
     "duration": 0.009187,
     "end_time": "2025-02-04T20:53:07.860610",
     "exception": false,
     "start_time": "2025-02-04T20:53:07.851423",
     "status": "completed"
    },
    "tags": []
   },
   "outputs": [],
   "source": []
  }
 ],
 "metadata": {
  "kaggle": {
   "accelerator": "gpu",
   "dataSources": [
    {
     "databundleVersionId": 9915460,
     "sourceId": 86864,
     "sourceType": "competition"
    }
   ],
   "dockerImageVersionId": 30840,
   "isGpuEnabled": true,
   "isInternetEnabled": true,
   "language": "python",
   "sourceType": "notebook"
  },
  "kernelspec": {
   "display_name": "Python 3",
   "language": "python",
   "name": "python3"
  },
  "language_info": {
   "codemirror_mode": {
    "name": "ipython",
    "version": 3
   },
   "file_extension": ".py",
   "mimetype": "text/x-python",
   "name": "python",
   "nbconvert_exporter": "python",
   "pygments_lexer": "ipython3",
   "version": "3.10.12"
  },
  "papermill": {
   "default_parameters": {},
   "duration": 11250.411643,
   "end_time": "2025-02-04T20:53:10.949050",
   "environment_variables": {},
   "exception": null,
   "input_path": "__notebook__.ipynb",
   "output_path": "__notebook__.ipynb",
   "parameters": {},
   "start_time": "2025-02-04T17:45:40.537407",
   "version": "2.6.0"
  }
 },
 "nbformat": 4,
 "nbformat_minor": 5
}
