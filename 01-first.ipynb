{
 "cells": [
  {
   "cell_type": "markdown",
   "id": "19d1d181",
   "metadata": {
    "papermill": {
     "duration": 0.003095,
     "end_time": "2025-01-19T09:47:41.427748",
     "exception": false,
     "start_time": "2025-01-19T09:47:41.424653",
     "status": "completed"
    },
    "tags": []
   },
   "source": [
    "First Attempt"
   ]
  },
  {
   "cell_type": "code",
   "execution_count": 1,
   "id": "25c4f58a",
   "metadata": {
    "execution": {
     "iopub.execute_input": "2025-01-19T09:47:41.434186Z",
     "iopub.status.busy": "2025-01-19T09:47:41.433889Z",
     "iopub.status.idle": "2025-01-19T09:47:48.029020Z",
     "shell.execute_reply": "2025-01-19T09:47:48.027889Z"
    },
    "papermill": {
     "duration": 6.600163,
     "end_time": "2025-01-19T09:47:48.030690",
     "exception": false,
     "start_time": "2025-01-19T09:47:41.430527",
     "status": "completed"
    },
    "tags": []
   },
   "outputs": [
    {
     "name": "stdout",
     "output_type": "stream",
     "text": [
      "Collecting medmnist\r\n",
      "  Downloading medmnist-3.0.2-py3-none-any.whl.metadata (14 kB)\r\n",
      "Requirement already satisfied: numpy in /usr/local/lib/python3.10/dist-packages (from medmnist) (1.26.4)\r\n",
      "Requirement already satisfied: pandas in /usr/local/lib/python3.10/dist-packages (from medmnist) (2.2.2)\r\n",
      "Requirement already satisfied: scikit-learn in /usr/local/lib/python3.10/dist-packages (from medmnist) (1.2.2)\r\n",
      "Requirement already satisfied: scikit-image in /usr/local/lib/python3.10/dist-packages (from medmnist) (0.25.0)\r\n",
      "Requirement already satisfied: tqdm in /usr/local/lib/python3.10/dist-packages (from medmnist) (4.67.1)\r\n",
      "Requirement already satisfied: Pillow in /usr/local/lib/python3.10/dist-packages (from medmnist) (11.0.0)\r\n",
      "Collecting fire (from medmnist)\r\n",
      "  Downloading fire-0.7.0.tar.gz (87 kB)\r\n",
      "\u001b[2K     \u001b[90m━━━━━━━━━━━━━━━━━━━━━━━━━━━━━━━━━━━━━━━━\u001b[0m \u001b[32m87.2/87.2 kB\u001b[0m \u001b[31m3.5 MB/s\u001b[0m eta \u001b[36m0:00:00\u001b[0m\r\n",
      "\u001b[?25h  Preparing metadata (setup.py) ... \u001b[?25l\u001b[?25hdone\r\n",
      "Requirement already satisfied: torch in /usr/local/lib/python3.10/dist-packages (from medmnist) (2.5.1+cu121)\r\n",
      "Requirement already satisfied: torchvision in /usr/local/lib/python3.10/dist-packages (from medmnist) (0.20.1+cu121)\r\n",
      "Requirement already satisfied: termcolor in /usr/local/lib/python3.10/dist-packages (from fire->medmnist) (2.5.0)\r\n",
      "Requirement already satisfied: mkl_fft in /usr/local/lib/python3.10/dist-packages (from numpy->medmnist) (1.3.8)\r\n",
      "Requirement already satisfied: mkl_random in /usr/local/lib/python3.10/dist-packages (from numpy->medmnist) (1.2.4)\r\n",
      "Requirement already satisfied: mkl_umath in /usr/local/lib/python3.10/dist-packages (from numpy->medmnist) (0.1.1)\r\n",
      "Requirement already satisfied: mkl in /usr/local/lib/python3.10/dist-packages (from numpy->medmnist) (2025.0.1)\r\n",
      "Requirement already satisfied: tbb4py in /usr/local/lib/python3.10/dist-packages (from numpy->medmnist) (2022.0.0)\r\n",
      "Requirement already satisfied: mkl-service in /usr/local/lib/python3.10/dist-packages (from numpy->medmnist) (2.4.1)\r\n",
      "Requirement already satisfied: python-dateutil>=2.8.2 in /usr/local/lib/python3.10/dist-packages (from pandas->medmnist) (2.8.2)\r\n",
      "Requirement already satisfied: pytz>=2020.1 in /usr/local/lib/python3.10/dist-packages (from pandas->medmnist) (2024.2)\r\n",
      "Requirement already satisfied: tzdata>=2022.7 in /usr/local/lib/python3.10/dist-packages (from pandas->medmnist) (2024.2)\r\n",
      "Requirement already satisfied: scipy>=1.11.2 in /usr/local/lib/python3.10/dist-packages (from scikit-image->medmnist) (1.13.1)\r\n",
      "Requirement already satisfied: networkx>=3.0 in /usr/local/lib/python3.10/dist-packages (from scikit-image->medmnist) (3.4.2)\r\n",
      "Requirement already satisfied: imageio!=2.35.0,>=2.33 in /usr/local/lib/python3.10/dist-packages (from scikit-image->medmnist) (2.36.1)\r\n",
      "Requirement already satisfied: tifffile>=2022.8.12 in /usr/local/lib/python3.10/dist-packages (from scikit-image->medmnist) (2024.12.12)\r\n",
      "Requirement already satisfied: packaging>=21 in /usr/local/lib/python3.10/dist-packages (from scikit-image->medmnist) (24.2)\r\n",
      "Requirement already satisfied: lazy-loader>=0.4 in /usr/local/lib/python3.10/dist-packages (from scikit-image->medmnist) (0.4)\r\n",
      "Requirement already satisfied: joblib>=1.1.1 in /usr/local/lib/python3.10/dist-packages (from scikit-learn->medmnist) (1.4.2)\r\n",
      "Requirement already satisfied: threadpoolctl>=2.0.0 in /usr/local/lib/python3.10/dist-packages (from scikit-learn->medmnist) (3.5.0)\r\n",
      "Requirement already satisfied: filelock in /usr/local/lib/python3.10/dist-packages (from torch->medmnist) (3.16.1)\r\n",
      "Requirement already satisfied: typing-extensions>=4.8.0 in /usr/local/lib/python3.10/dist-packages (from torch->medmnist) (4.12.2)\r\n",
      "Requirement already satisfied: jinja2 in /usr/local/lib/python3.10/dist-packages (from torch->medmnist) (3.1.4)\r\n",
      "Requirement already satisfied: fsspec in /usr/local/lib/python3.10/dist-packages (from torch->medmnist) (2024.9.0)\r\n",
      "Requirement already satisfied: sympy==1.13.1 in /usr/local/lib/python3.10/dist-packages (from torch->medmnist) (1.13.1)\r\n",
      "Requirement already satisfied: mpmath<1.4,>=1.1.0 in /usr/local/lib/python3.10/dist-packages (from sympy==1.13.1->torch->medmnist) (1.3.0)\r\n",
      "Requirement already satisfied: six>=1.5 in /usr/local/lib/python3.10/dist-packages (from python-dateutil>=2.8.2->pandas->medmnist) (1.17.0)\r\n",
      "Requirement already satisfied: MarkupSafe>=2.0 in /usr/local/lib/python3.10/dist-packages (from jinja2->torch->medmnist) (3.0.2)\r\n",
      "Requirement already satisfied: intel-openmp>=2024 in /usr/local/lib/python3.10/dist-packages (from mkl->numpy->medmnist) (2024.2.0)\r\n",
      "Requirement already satisfied: tbb==2022.* in /usr/local/lib/python3.10/dist-packages (from mkl->numpy->medmnist) (2022.0.0)\r\n",
      "Requirement already satisfied: tcmlib==1.* in /usr/local/lib/python3.10/dist-packages (from tbb==2022.*->mkl->numpy->medmnist) (1.2.0)\r\n",
      "Requirement already satisfied: intel-cmplr-lib-rt in /usr/local/lib/python3.10/dist-packages (from mkl_umath->numpy->medmnist) (2024.2.0)\r\n",
      "Requirement already satisfied: intel-cmplr-lib-ur==2024.2.0 in /usr/local/lib/python3.10/dist-packages (from intel-openmp>=2024->mkl->numpy->medmnist) (2024.2.0)\r\n",
      "Downloading medmnist-3.0.2-py3-none-any.whl (25 kB)\r\n",
      "Building wheels for collected packages: fire\r\n",
      "  Building wheel for fire (setup.py) ... \u001b[?25l\u001b[?25hdone\r\n",
      "  Created wheel for fire: filename=fire-0.7.0-py3-none-any.whl size=114249 sha256=c32a9fdd693078ff21cd25fb0244e105ed43357e0f236e06b4a4208c30666cb3\r\n",
      "  Stored in directory: /root/.cache/pip/wheels/19/39/2f/2d3cadc408a8804103f1c34ddd4b9f6a93497b11fa96fe738e\r\n",
      "Successfully built fire\r\n",
      "Installing collected packages: fire, medmnist\r\n",
      "Successfully installed fire-0.7.0 medmnist-3.0.2\r\n"
     ]
    }
   ],
   "source": [
    "!pip install medmnist"
   ]
  },
  {
   "cell_type": "code",
   "execution_count": 2,
   "id": "2e5cf721",
   "metadata": {
    "execution": {
     "iopub.execute_input": "2025-01-19T09:47:48.039363Z",
     "iopub.status.busy": "2025-01-19T09:47:48.039016Z",
     "iopub.status.idle": "2025-01-19T09:48:03.987357Z",
     "shell.execute_reply": "2025-01-19T09:48:03.986588Z"
    },
    "papermill": {
     "duration": 15.954409,
     "end_time": "2025-01-19T09:48:03.988917",
     "exception": false,
     "start_time": "2025-01-19T09:47:48.034508",
     "status": "completed"
    },
    "tags": []
   },
   "outputs": [],
   "source": [
    "import numpy as np\n",
    "import matplotlib.pyplot as plt\n",
    "import medmnist\n",
    "import os\n",
    "import pandas as pd\n",
    "import tensorflow as tf\n",
    "\n",
    "from pathlib import Path\n",
    "from sklearn.metrics import f1_score\n",
    "from medmnist import INFO, Evaluator\n",
    "from tensorflow import keras\n",
    "from tensorflow.keras import layers\n",
    "\n",
    "# print(\"MedMNIST version:\", medmnist.__version__)\n",
    "# print(\"\\n'pneumoniamnist' info dictionary:\\n\", INFO[\"pneumoniamnist\"])"
   ]
  },
  {
   "cell_type": "code",
   "execution_count": 3,
   "id": "1672be72",
   "metadata": {
    "execution": {
     "iopub.execute_input": "2025-01-19T09:48:03.997097Z",
     "iopub.status.busy": "2025-01-19T09:48:03.996591Z",
     "iopub.status.idle": "2025-01-19T09:48:04.001851Z",
     "shell.execute_reply": "2025-01-19T09:48:04.001252Z"
    },
    "papermill": {
     "duration": 0.010397,
     "end_time": "2025-01-19T09:48:04.003045",
     "exception": false,
     "start_time": "2025-01-19T09:48:03.992648",
     "status": "completed"
    },
    "tags": []
   },
   "outputs": [],
   "source": [
    "BATCH_SIZE = 64\n",
    "\n",
    "def load_npz_data(npz_path):\n",
    "    \"\"\"Load train, val, and test arrays from a given .npz file.\"\"\"\n",
    "    data = np.load(npz_path)\n",
    "    \n",
    "    # Adjust keys if necessary\n",
    "    train_images = data['train_images']\n",
    "    train_labels = data['train_labels']\n",
    "    val_images = data['val_images']\n",
    "    val_labels = data['val_labels']\n",
    "    test_images = data['test_images']\n",
    "    test_labels = data['test_labels']\n",
    "    \n",
    "    return (train_images, train_labels), (val_images, val_labels), (test_images, test_labels)\n",
    "\n",
    "def create_tf_dataset_from_numpy(images, labels, batch_size=BATCH_SIZE):\n",
    "    \"\"\"Convert numpy arrays to a tf.data.Dataset, expanding grayscale images to 3 channels.\"\"\"\n",
    "    if images.ndim == 3:  # shape: (N, H, W)\n",
    "        images = np.expand_dims(images, axis=-1)  # shape: (N, H, W, 1)\n",
    "    if images.shape[-1] == 1:\n",
    "        images = np.tile(images, (1, 1, 1, 3))   # convert grayscale to RGB\n",
    "    \n",
    "    images = images.astype(np.float32) / 255.0\n",
    "    ds = tf.data.Dataset.from_tensor_slices((images, labels))\n",
    "    ds = ds.batch(batch_size)\n",
    "    return ds"
   ]
  },
  {
   "cell_type": "code",
   "execution_count": 4,
   "id": "991a0e24",
   "metadata": {
    "execution": {
     "iopub.execute_input": "2025-01-19T09:48:04.010557Z",
     "iopub.status.busy": "2025-01-19T09:48:04.010334Z",
     "iopub.status.idle": "2025-01-19T09:48:04.013774Z",
     "shell.execute_reply": "2025-01-19T09:48:04.013141Z"
    },
    "papermill": {
     "duration": 0.008468,
     "end_time": "2025-01-19T09:48:04.014968",
     "exception": false,
     "start_time": "2025-01-19T09:48:04.006500",
     "status": "completed"
    },
    "tags": []
   },
   "outputs": [],
   "source": [
    "base_path = Path(\"/kaggle/input/tensor-reloaded-multi-task-med-mnist/data\")\n",
    "\n",
    "task_names = [\n",
    "    \"pathmnist\",\n",
    "    \"dermamnist\",\n",
    "    \"octmnist\",\n",
    "    \"pneumoniamnist\",\n",
    "    \"retinamnist\",\n",
    "    \"breastmnist\",\n",
    "    \"bloodmnist\",\n",
    "    \"tissuemnist\",\n",
    "    \"organamnist\",\n",
    "    \"organcmnist\",\n",
    "    \"organsmnist\"\n",
    "]\n",
    "\n",
    "task_to_npz = {task: base_path / f\"{task}.npz\" for task in task_names}"
   ]
  },
  {
   "cell_type": "code",
   "execution_count": 5,
   "id": "4b9b39a8",
   "metadata": {
    "execution": {
     "iopub.execute_input": "2025-01-19T09:48:04.022153Z",
     "iopub.status.busy": "2025-01-19T09:48:04.021953Z",
     "iopub.status.idle": "2025-01-19T09:48:33.116551Z",
     "shell.execute_reply": "2025-01-19T09:48:33.115642Z"
    },
    "papermill": {
     "duration": 29.099716,
     "end_time": "2025-01-19T09:48:33.117983",
     "exception": false,
     "start_time": "2025-01-19T09:48:04.018267",
     "status": "completed"
    },
    "tags": []
   },
   "outputs": [
    {
     "name": "stdout",
     "output_type": "stream",
     "text": [
      "pathmnist: Loaded 89996 train, 10004 val, 7180 test samples\n",
      "dermamnist: Loaded 7007 train, 1003 val, 2005 test samples\n",
      "octmnist: Loaded 97477 train, 10832 val, 1000 test samples\n",
      "pneumoniamnist: Loaded 4708 train, 524 val, 624 test samples\n",
      "retinamnist: Loaded 1080 train, 120 val, 400 test samples\n",
      "breastmnist: Loaded 546 train, 78 val, 156 test samples\n",
      "bloodmnist: Loaded 11959 train, 1712 val, 3421 test samples\n",
      "tissuemnist: Loaded 165466 train, 23640 val, 47280 test samples\n",
      "organamnist: Loaded 34581 train, 6491 val, 17778 test samples\n",
      "organcmnist: Loaded 13000 train, 2392 val, 8268 test samples\n",
      "organsmnist: Loaded 13940 train, 2452 val, 8829 test samples\n"
     ]
    }
   ],
   "source": [
    "train_datasets_tf = {}\n",
    "val_datasets_tf = {}\n",
    "test_datasets_tf = {}\n",
    "\n",
    "for task in task_names:\n",
    "    npz_file = task_to_npz[task]\n",
    "    # Load data for current task\n",
    "    (train_imgs, train_lbls), (val_imgs, val_lbls), (test_imgs, test_lbls) = load_npz_data(npz_file)\n",
    "    \n",
    "    # Create TensorFlow datasets for each split\n",
    "    train_datasets_tf[task] = create_tf_dataset_from_numpy(train_imgs, train_lbls, BATCH_SIZE)\n",
    "    val_datasets_tf[task] = create_tf_dataset_from_numpy(val_imgs, val_lbls, BATCH_SIZE)\n",
    "    test_datasets_tf[task] = create_tf_dataset_from_numpy(test_imgs, test_lbls, BATCH_SIZE)\n",
    "    \n",
    "    print(f\"{task}: Loaded {len(train_imgs)} train, {len(val_imgs)} val, {len(test_imgs)} test samples\")"
   ]
  },
  {
   "cell_type": "code",
   "execution_count": 6,
   "id": "e5fbe387",
   "metadata": {
    "execution": {
     "iopub.execute_input": "2025-01-19T09:48:33.127043Z",
     "iopub.status.busy": "2025-01-19T09:48:33.126722Z",
     "iopub.status.idle": "2025-01-19T09:48:34.379695Z",
     "shell.execute_reply": "2025-01-19T09:48:34.378783Z"
    },
    "papermill": {
     "duration": 1.258711,
     "end_time": "2025-01-19T09:48:34.380965",
     "exception": false,
     "start_time": "2025-01-19T09:48:33.122254",
     "status": "completed"
    },
    "tags": []
   },
   "outputs": [
    {
     "name": "stdout",
     "output_type": "stream",
     "text": [
      "Total test samples across all tasks: 96941\n"
     ]
    }
   ],
   "source": [
    "total_test_samples = 0\n",
    "for task in task_names:\n",
    "    # Summing the sizes of each task's test set\n",
    "    for images, labels in test_datasets_tf[task]:\n",
    "        total_test_samples += images.shape[0]\n",
    "print(\"Total test samples across all tasks:\", total_test_samples)"
   ]
  },
  {
   "cell_type": "code",
   "execution_count": 7,
   "id": "318a779e",
   "metadata": {
    "execution": {
     "iopub.execute_input": "2025-01-19T09:48:34.389582Z",
     "iopub.status.busy": "2025-01-19T09:48:34.389344Z",
     "iopub.status.idle": "2025-01-19T09:48:34.395425Z",
     "shell.execute_reply": "2025-01-19T09:48:34.394807Z"
    },
    "papermill": {
     "duration": 0.011723,
     "end_time": "2025-01-19T09:48:34.396664",
     "exception": false,
     "start_time": "2025-01-19T09:48:34.384941",
     "status": "completed"
    },
    "tags": []
   },
   "outputs": [],
   "source": [
    "class MultiTaskKerasModel(keras.Model):\n",
    "    def __init__(self, task_names, data_flag_to_info):\n",
    "        super().__init__()\n",
    "        self.task_names = task_names\n",
    "        \n",
    "        # Simple CNN backbone\n",
    "        self.conv1 = layers.Conv2D(32, kernel_size=3, padding='same', activation='relu')\n",
    "        self.pool1 = layers.MaxPooling2D()\n",
    "        self.conv2 = layers.Conv2D(64, kernel_size=3, padding='same', activation='relu')\n",
    "        self.pool2 = layers.MaxPooling2D()\n",
    "        self.flatten = layers.Flatten()\n",
    "        \n",
    "        # Classification heads: a Dense layer for each task\n",
    "        self.heads = {}\n",
    "        for task in task_names:\n",
    "            n_classes = len(data_flag_to_info[task]['label'])\n",
    "            self.heads[task] = layers.Dense(n_classes, name=f'head_{task}')\n",
    "\n",
    "        self.heads = dict(self.heads)  # convert to normal dict for convenience\n",
    "\n",
    "    def call(self, x, task=None, training=False):\n",
    "        \"\"\"\n",
    "        Forward pass. If 'task' is provided, return that task's logits. \n",
    "        Otherwise return a dict of all tasks' logits.\n",
    "        \"\"\"\n",
    "        # Shared feature extraction\n",
    "        x = self.conv1(x, training=training)\n",
    "        x = self.pool1(x)\n",
    "        x = self.conv2(x, training=training)\n",
    "        x = self.pool2(x)\n",
    "        x = self.flatten(x)\n",
    "        \n",
    "        if task is not None:\n",
    "            # Return only the relevant head\n",
    "            return self.heads[task](x)\n",
    "        else:\n",
    "            # Return a dictionary of all heads (not strictly needed for round-robin)\n",
    "            outputs = {}\n",
    "            for t in self.task_names:\n",
    "                outputs[t] = self.heads[t](x)\n",
    "            return outputs"
   ]
  },
  {
   "cell_type": "code",
   "execution_count": 8,
   "id": "ff21a283",
   "metadata": {
    "execution": {
     "iopub.execute_input": "2025-01-19T09:48:34.404994Z",
     "iopub.status.busy": "2025-01-19T09:48:34.404794Z",
     "iopub.status.idle": "2025-01-19T09:48:36.632197Z",
     "shell.execute_reply": "2025-01-19T09:48:36.631542Z"
    },
    "papermill": {
     "duration": 2.233126,
     "end_time": "2025-01-19T09:48:36.633690",
     "exception": false,
     "start_time": "2025-01-19T09:48:34.400564",
     "status": "completed"
    },
    "tags": []
   },
   "outputs": [
    {
     "name": "stderr",
     "output_type": "stream",
     "text": [
      "/usr/local/lib/python3.10/dist-packages/keras/src/layers/layer.py:391: UserWarning: `build()` was called on layer 'multi_task_keras_model', however the layer does not have a `build()` method implemented and it looks like it has unbuilt state. This will cause the layer to be marked as built, despite not being actually built, which may cause failures down the line. Make sure to implement a proper `build()` method.\n",
      "  warnings.warn(\n"
     ]
    }
   ],
   "source": [
    "# Define data_flag_to_info using MedMNIST INFO\n",
    "data_flag_to_info = {task: INFO[task] for task in task_names}\n",
    "\n",
    "# Initialize the multi-task model\n",
    "model = MultiTaskKerasModel(task_names, data_flag_to_info)\n",
    "\n",
    "# Create a dummy input matching the expected input shape (e.g., (1, 28, 28, 3))\n",
    "dummy_input = tf.random.normal((1, 28, 28, 3))\n",
    "\n",
    "# Trigger building of the model for each task to initialize all variables\n",
    "for t in task_names:\n",
    "    _ = model(dummy_input, task=t, training=False)\n",
    "\n",
    "# Now instantiate the optimizer after model variables are created\n",
    "optimizer = tf.keras.optimizers.Adam(learning_rate=1e-3)\n",
    "loss_fn = tf.keras.losses.SparseCategoricalCrossentropy(from_logits=True)"
   ]
  },
  {
   "cell_type": "code",
   "execution_count": 9,
   "id": "306013cd",
   "metadata": {
    "execution": {
     "iopub.execute_input": "2025-01-19T09:48:36.642773Z",
     "iopub.status.busy": "2025-01-19T09:48:36.642540Z",
     "iopub.status.idle": "2025-01-19T11:28:38.996989Z",
     "shell.execute_reply": "2025-01-19T11:28:38.996061Z"
    },
    "papermill": {
     "duration": 6002.360448,
     "end_time": "2025-01-19T11:28:38.998459",
     "exception": false,
     "start_time": "2025-01-19T09:48:36.638011",
     "status": "completed"
    },
    "tags": []
   },
   "outputs": [
    {
     "name": "stdout",
     "output_type": "stream",
     "text": [
      "Epoch 1/50...\n"
     ]
    },
    {
     "name": "stderr",
     "output_type": "stream",
     "text": [
      "/usr/local/lib/python3.10/dist-packages/keras/src/optimizers/base_optimizer.py:678: UserWarning: Gradients do not exist for variables ['kernel', 'bias', 'kernel', 'bias', 'kernel', 'bias', 'kernel', 'bias', 'kernel', 'bias', 'kernel', 'bias', 'kernel', 'bias', 'kernel', 'bias', 'kernel', 'bias', 'kernel', 'bias'] when minimizing the loss. If using `model.compile()`, did you forget to provide a `loss` argument?\n",
      "  warnings.warn(\n"
     ]
    },
    {
     "name": "stdout",
     "output_type": "stream",
     "text": [
      "  Training Loss: 0.9433\n",
      "  Harmonic Mean Macro F1 on Validation: 0.2661\n",
      "  Improved validation macro F1. Saving model weights.\n",
      "Epoch 2/50...\n"
     ]
    },
    {
     "name": "stderr",
     "output_type": "stream",
     "text": [
      "/usr/local/lib/python3.10/dist-packages/keras/src/optimizers/base_optimizer.py:678: UserWarning: Gradients do not exist for variables ['kernel', 'bias', 'kernel', 'bias', 'kernel', 'bias', 'kernel', 'bias', 'kernel', 'bias', 'kernel', 'bias', 'kernel', 'bias', 'kernel', 'bias', 'kernel', 'bias', 'kernel', 'bias'] when minimizing the loss. If using `model.compile()`, did you forget to provide a `loss` argument?\n",
      "  warnings.warn(\n"
     ]
    },
    {
     "name": "stdout",
     "output_type": "stream",
     "text": [
      "  Training Loss: 0.8458\n",
      "  Harmonic Mean Macro F1 on Validation: 0.2385\n",
      "  No improvement for 1 epoch(s).\n",
      "Epoch 3/50...\n"
     ]
    },
    {
     "name": "stderr",
     "output_type": "stream",
     "text": [
      "/usr/local/lib/python3.10/dist-packages/keras/src/optimizers/base_optimizer.py:678: UserWarning: Gradients do not exist for variables ['kernel', 'bias', 'kernel', 'bias', 'kernel', 'bias', 'kernel', 'bias', 'kernel', 'bias', 'kernel', 'bias', 'kernel', 'bias', 'kernel', 'bias', 'kernel', 'bias', 'kernel', 'bias'] when minimizing the loss. If using `model.compile()`, did you forget to provide a `loss` argument?\n",
      "  warnings.warn(\n"
     ]
    },
    {
     "name": "stdout",
     "output_type": "stream",
     "text": [
      "  Training Loss: 0.7825\n",
      "  Harmonic Mean Macro F1 on Validation: 0.2378\n",
      "  No improvement for 2 epoch(s).\n",
      "Epoch 4/50...\n"
     ]
    },
    {
     "name": "stderr",
     "output_type": "stream",
     "text": [
      "/usr/local/lib/python3.10/dist-packages/keras/src/optimizers/base_optimizer.py:678: UserWarning: Gradients do not exist for variables ['kernel', 'bias', 'kernel', 'bias', 'kernel', 'bias', 'kernel', 'bias', 'kernel', 'bias', 'kernel', 'bias', 'kernel', 'bias', 'kernel', 'bias', 'kernel', 'bias', 'kernel', 'bias'] when minimizing the loss. If using `model.compile()`, did you forget to provide a `loss` argument?\n",
      "  warnings.warn(\n"
     ]
    },
    {
     "name": "stdout",
     "output_type": "stream",
     "text": [
      "  Training Loss: 0.7465\n",
      "  Harmonic Mean Macro F1 on Validation: 0.2842\n",
      "  Improved validation macro F1. Saving model weights.\n",
      "Epoch 5/50...\n"
     ]
    },
    {
     "name": "stderr",
     "output_type": "stream",
     "text": [
      "/usr/local/lib/python3.10/dist-packages/keras/src/optimizers/base_optimizer.py:678: UserWarning: Gradients do not exist for variables ['kernel', 'bias', 'kernel', 'bias', 'kernel', 'bias', 'kernel', 'bias', 'kernel', 'bias', 'kernel', 'bias', 'kernel', 'bias', 'kernel', 'bias', 'kernel', 'bias', 'kernel', 'bias'] when minimizing the loss. If using `model.compile()`, did you forget to provide a `loss` argument?\n",
      "  warnings.warn(\n"
     ]
    },
    {
     "name": "stdout",
     "output_type": "stream",
     "text": [
      "  Training Loss: 0.7023\n",
      "  Harmonic Mean Macro F1 on Validation: 0.2740\n",
      "  No improvement for 1 epoch(s).\n",
      "Epoch 6/50...\n"
     ]
    },
    {
     "name": "stderr",
     "output_type": "stream",
     "text": [
      "/usr/local/lib/python3.10/dist-packages/keras/src/optimizers/base_optimizer.py:678: UserWarning: Gradients do not exist for variables ['kernel', 'bias', 'kernel', 'bias', 'kernel', 'bias', 'kernel', 'bias', 'kernel', 'bias', 'kernel', 'bias', 'kernel', 'bias', 'kernel', 'bias', 'kernel', 'bias', 'kernel', 'bias'] when minimizing the loss. If using `model.compile()`, did you forget to provide a `loss` argument?\n",
      "  warnings.warn(\n"
     ]
    },
    {
     "name": "stdout",
     "output_type": "stream",
     "text": [
      "  Training Loss: 0.6739\n",
      "  Harmonic Mean Macro F1 on Validation: 0.2930\n",
      "  Improved validation macro F1. Saving model weights.\n",
      "Epoch 7/50...\n"
     ]
    },
    {
     "name": "stderr",
     "output_type": "stream",
     "text": [
      "/usr/local/lib/python3.10/dist-packages/keras/src/optimizers/base_optimizer.py:678: UserWarning: Gradients do not exist for variables ['kernel', 'bias', 'kernel', 'bias', 'kernel', 'bias', 'kernel', 'bias', 'kernel', 'bias', 'kernel', 'bias', 'kernel', 'bias', 'kernel', 'bias', 'kernel', 'bias', 'kernel', 'bias'] when minimizing the loss. If using `model.compile()`, did you forget to provide a `loss` argument?\n",
      "  warnings.warn(\n"
     ]
    },
    {
     "name": "stdout",
     "output_type": "stream",
     "text": [
      "  Training Loss: 0.6714\n",
      "  Harmonic Mean Macro F1 on Validation: 0.3067\n",
      "  Improved validation macro F1. Saving model weights.\n",
      "Epoch 8/50...\n"
     ]
    },
    {
     "name": "stderr",
     "output_type": "stream",
     "text": [
      "/usr/local/lib/python3.10/dist-packages/keras/src/optimizers/base_optimizer.py:678: UserWarning: Gradients do not exist for variables ['kernel', 'bias', 'kernel', 'bias', 'kernel', 'bias', 'kernel', 'bias', 'kernel', 'bias', 'kernel', 'bias', 'kernel', 'bias', 'kernel', 'bias', 'kernel', 'bias', 'kernel', 'bias'] when minimizing the loss. If using `model.compile()`, did you forget to provide a `loss` argument?\n",
      "  warnings.warn(\n"
     ]
    },
    {
     "name": "stdout",
     "output_type": "stream",
     "text": [
      "  Training Loss: 0.6560\n",
      "  Harmonic Mean Macro F1 on Validation: 0.2701\n",
      "  No improvement for 1 epoch(s).\n",
      "Epoch 9/50...\n"
     ]
    },
    {
     "name": "stderr",
     "output_type": "stream",
     "text": [
      "/usr/local/lib/python3.10/dist-packages/keras/src/optimizers/base_optimizer.py:678: UserWarning: Gradients do not exist for variables ['kernel', 'bias', 'kernel', 'bias', 'kernel', 'bias', 'kernel', 'bias', 'kernel', 'bias', 'kernel', 'bias', 'kernel', 'bias', 'kernel', 'bias', 'kernel', 'bias', 'kernel', 'bias'] when minimizing the loss. If using `model.compile()`, did you forget to provide a `loss` argument?\n",
      "  warnings.warn(\n"
     ]
    },
    {
     "name": "stdout",
     "output_type": "stream",
     "text": [
      "  Training Loss: 0.6570\n",
      "  Harmonic Mean Macro F1 on Validation: 0.3042\n",
      "  No improvement for 2 epoch(s).\n",
      "Epoch 10/50...\n"
     ]
    },
    {
     "name": "stderr",
     "output_type": "stream",
     "text": [
      "/usr/local/lib/python3.10/dist-packages/keras/src/optimizers/base_optimizer.py:678: UserWarning: Gradients do not exist for variables ['kernel', 'bias', 'kernel', 'bias', 'kernel', 'bias', 'kernel', 'bias', 'kernel', 'bias', 'kernel', 'bias', 'kernel', 'bias', 'kernel', 'bias', 'kernel', 'bias', 'kernel', 'bias'] when minimizing the loss. If using `model.compile()`, did you forget to provide a `loss` argument?\n",
      "  warnings.warn(\n"
     ]
    },
    {
     "name": "stdout",
     "output_type": "stream",
     "text": [
      "  Training Loss: 0.6250\n",
      "  Harmonic Mean Macro F1 on Validation: 0.2652\n",
      "  No improvement for 3 epoch(s).\n",
      "Epoch 11/50...\n"
     ]
    },
    {
     "name": "stderr",
     "output_type": "stream",
     "text": [
      "/usr/local/lib/python3.10/dist-packages/keras/src/optimizers/base_optimizer.py:678: UserWarning: Gradients do not exist for variables ['kernel', 'bias', 'kernel', 'bias', 'kernel', 'bias', 'kernel', 'bias', 'kernel', 'bias', 'kernel', 'bias', 'kernel', 'bias', 'kernel', 'bias', 'kernel', 'bias', 'kernel', 'bias'] when minimizing the loss. If using `model.compile()`, did you forget to provide a `loss` argument?\n",
      "  warnings.warn(\n"
     ]
    },
    {
     "name": "stdout",
     "output_type": "stream",
     "text": [
      "  Training Loss: 0.6193\n",
      "  Harmonic Mean Macro F1 on Validation: 0.3221\n",
      "  Improved validation macro F1. Saving model weights.\n",
      "Epoch 12/50...\n"
     ]
    },
    {
     "name": "stderr",
     "output_type": "stream",
     "text": [
      "/usr/local/lib/python3.10/dist-packages/keras/src/optimizers/base_optimizer.py:678: UserWarning: Gradients do not exist for variables ['kernel', 'bias', 'kernel', 'bias', 'kernel', 'bias', 'kernel', 'bias', 'kernel', 'bias', 'kernel', 'bias', 'kernel', 'bias', 'kernel', 'bias', 'kernel', 'bias', 'kernel', 'bias'] when minimizing the loss. If using `model.compile()`, did you forget to provide a `loss` argument?\n",
      "  warnings.warn(\n"
     ]
    },
    {
     "name": "stdout",
     "output_type": "stream",
     "text": [
      "  Training Loss: 0.6023\n",
      "  Harmonic Mean Macro F1 on Validation: 0.3596\n",
      "  Improved validation macro F1. Saving model weights.\n",
      "Epoch 13/50...\n"
     ]
    },
    {
     "name": "stderr",
     "output_type": "stream",
     "text": [
      "/usr/local/lib/python3.10/dist-packages/keras/src/optimizers/base_optimizer.py:678: UserWarning: Gradients do not exist for variables ['kernel', 'bias', 'kernel', 'bias', 'kernel', 'bias', 'kernel', 'bias', 'kernel', 'bias', 'kernel', 'bias', 'kernel', 'bias', 'kernel', 'bias', 'kernel', 'bias', 'kernel', 'bias'] when minimizing the loss. If using `model.compile()`, did you forget to provide a `loss` argument?\n",
      "  warnings.warn(\n"
     ]
    },
    {
     "name": "stdout",
     "output_type": "stream",
     "text": [
      "  Training Loss: 0.5966\n",
      "  Harmonic Mean Macro F1 on Validation: 0.1837\n",
      "  No improvement for 1 epoch(s).\n",
      "Epoch 14/50...\n"
     ]
    },
    {
     "name": "stderr",
     "output_type": "stream",
     "text": [
      "/usr/local/lib/python3.10/dist-packages/keras/src/optimizers/base_optimizer.py:678: UserWarning: Gradients do not exist for variables ['kernel', 'bias', 'kernel', 'bias', 'kernel', 'bias', 'kernel', 'bias', 'kernel', 'bias', 'kernel', 'bias', 'kernel', 'bias', 'kernel', 'bias', 'kernel', 'bias', 'kernel', 'bias'] when minimizing the loss. If using `model.compile()`, did you forget to provide a `loss` argument?\n",
      "  warnings.warn(\n"
     ]
    },
    {
     "name": "stdout",
     "output_type": "stream",
     "text": [
      "  Training Loss: 0.6029\n",
      "  Harmonic Mean Macro F1 on Validation: 0.3450\n",
      "  No improvement for 2 epoch(s).\n",
      "Epoch 15/50...\n"
     ]
    },
    {
     "name": "stderr",
     "output_type": "stream",
     "text": [
      "/usr/local/lib/python3.10/dist-packages/keras/src/optimizers/base_optimizer.py:678: UserWarning: Gradients do not exist for variables ['kernel', 'bias', 'kernel', 'bias', 'kernel', 'bias', 'kernel', 'bias', 'kernel', 'bias', 'kernel', 'bias', 'kernel', 'bias', 'kernel', 'bias', 'kernel', 'bias', 'kernel', 'bias'] when minimizing the loss. If using `model.compile()`, did you forget to provide a `loss` argument?\n",
      "  warnings.warn(\n"
     ]
    },
    {
     "name": "stdout",
     "output_type": "stream",
     "text": [
      "  Training Loss: 0.5792\n",
      "  Harmonic Mean Macro F1 on Validation: 0.3641\n",
      "  Improved validation macro F1. Saving model weights.\n",
      "Epoch 16/50...\n"
     ]
    },
    {
     "name": "stderr",
     "output_type": "stream",
     "text": [
      "/usr/local/lib/python3.10/dist-packages/keras/src/optimizers/base_optimizer.py:678: UserWarning: Gradients do not exist for variables ['kernel', 'bias', 'kernel', 'bias', 'kernel', 'bias', 'kernel', 'bias', 'kernel', 'bias', 'kernel', 'bias', 'kernel', 'bias', 'kernel', 'bias', 'kernel', 'bias', 'kernel', 'bias'] when minimizing the loss. If using `model.compile()`, did you forget to provide a `loss` argument?\n",
      "  warnings.warn(\n"
     ]
    },
    {
     "name": "stdout",
     "output_type": "stream",
     "text": [
      "  Training Loss: 0.5730\n",
      "  Harmonic Mean Macro F1 on Validation: 0.3561\n",
      "  No improvement for 1 epoch(s).\n",
      "Epoch 17/50...\n"
     ]
    },
    {
     "name": "stderr",
     "output_type": "stream",
     "text": [
      "/usr/local/lib/python3.10/dist-packages/keras/src/optimizers/base_optimizer.py:678: UserWarning: Gradients do not exist for variables ['kernel', 'bias', 'kernel', 'bias', 'kernel', 'bias', 'kernel', 'bias', 'kernel', 'bias', 'kernel', 'bias', 'kernel', 'bias', 'kernel', 'bias', 'kernel', 'bias', 'kernel', 'bias'] when minimizing the loss. If using `model.compile()`, did you forget to provide a `loss` argument?\n",
      "  warnings.warn(\n"
     ]
    },
    {
     "name": "stdout",
     "output_type": "stream",
     "text": [
      "  Training Loss: 0.5741\n",
      "  Harmonic Mean Macro F1 on Validation: 0.3154\n",
      "  No improvement for 2 epoch(s).\n",
      "Epoch 18/50...\n"
     ]
    },
    {
     "name": "stderr",
     "output_type": "stream",
     "text": [
      "/usr/local/lib/python3.10/dist-packages/keras/src/optimizers/base_optimizer.py:678: UserWarning: Gradients do not exist for variables ['kernel', 'bias', 'kernel', 'bias', 'kernel', 'bias', 'kernel', 'bias', 'kernel', 'bias', 'kernel', 'bias', 'kernel', 'bias', 'kernel', 'bias', 'kernel', 'bias', 'kernel', 'bias'] when minimizing the loss. If using `model.compile()`, did you forget to provide a `loss` argument?\n",
      "  warnings.warn(\n"
     ]
    },
    {
     "name": "stdout",
     "output_type": "stream",
     "text": [
      "  Training Loss: 0.5681\n",
      "  Harmonic Mean Macro F1 on Validation: 0.3543\n",
      "  No improvement for 3 epoch(s).\n",
      "Epoch 19/50...\n"
     ]
    },
    {
     "name": "stderr",
     "output_type": "stream",
     "text": [
      "/usr/local/lib/python3.10/dist-packages/keras/src/optimizers/base_optimizer.py:678: UserWarning: Gradients do not exist for variables ['kernel', 'bias', 'kernel', 'bias', 'kernel', 'bias', 'kernel', 'bias', 'kernel', 'bias', 'kernel', 'bias', 'kernel', 'bias', 'kernel', 'bias', 'kernel', 'bias', 'kernel', 'bias'] when minimizing the loss. If using `model.compile()`, did you forget to provide a `loss` argument?\n",
      "  warnings.warn(\n"
     ]
    },
    {
     "name": "stdout",
     "output_type": "stream",
     "text": [
      "  Training Loss: 0.5645\n",
      "  Harmonic Mean Macro F1 on Validation: 0.3606\n",
      "  No improvement for 4 epoch(s).\n",
      "Epoch 20/50...\n"
     ]
    },
    {
     "name": "stderr",
     "output_type": "stream",
     "text": [
      "/usr/local/lib/python3.10/dist-packages/keras/src/optimizers/base_optimizer.py:678: UserWarning: Gradients do not exist for variables ['kernel', 'bias', 'kernel', 'bias', 'kernel', 'bias', 'kernel', 'bias', 'kernel', 'bias', 'kernel', 'bias', 'kernel', 'bias', 'kernel', 'bias', 'kernel', 'bias', 'kernel', 'bias'] when minimizing the loss. If using `model.compile()`, did you forget to provide a `loss` argument?\n",
      "  warnings.warn(\n"
     ]
    },
    {
     "name": "stdout",
     "output_type": "stream",
     "text": [
      "  Training Loss: 0.5537\n",
      "  Harmonic Mean Macro F1 on Validation: 0.3736\n",
      "  Improved validation macro F1. Saving model weights.\n",
      "Epoch 21/50...\n"
     ]
    },
    {
     "name": "stderr",
     "output_type": "stream",
     "text": [
      "/usr/local/lib/python3.10/dist-packages/keras/src/optimizers/base_optimizer.py:678: UserWarning: Gradients do not exist for variables ['kernel', 'bias', 'kernel', 'bias', 'kernel', 'bias', 'kernel', 'bias', 'kernel', 'bias', 'kernel', 'bias', 'kernel', 'bias', 'kernel', 'bias', 'kernel', 'bias', 'kernel', 'bias'] when minimizing the loss. If using `model.compile()`, did you forget to provide a `loss` argument?\n",
      "  warnings.warn(\n"
     ]
    },
    {
     "name": "stdout",
     "output_type": "stream",
     "text": [
      "  Training Loss: 0.5470\n",
      "  Harmonic Mean Macro F1 on Validation: 0.3636\n",
      "  No improvement for 1 epoch(s).\n",
      "Epoch 22/50...\n"
     ]
    },
    {
     "name": "stderr",
     "output_type": "stream",
     "text": [
      "/usr/local/lib/python3.10/dist-packages/keras/src/optimizers/base_optimizer.py:678: UserWarning: Gradients do not exist for variables ['kernel', 'bias', 'kernel', 'bias', 'kernel', 'bias', 'kernel', 'bias', 'kernel', 'bias', 'kernel', 'bias', 'kernel', 'bias', 'kernel', 'bias', 'kernel', 'bias', 'kernel', 'bias'] when minimizing the loss. If using `model.compile()`, did you forget to provide a `loss` argument?\n",
      "  warnings.warn(\n"
     ]
    },
    {
     "name": "stdout",
     "output_type": "stream",
     "text": [
      "  Training Loss: 0.5439\n",
      "  Harmonic Mean Macro F1 on Validation: 0.3713\n",
      "  No improvement for 2 epoch(s).\n",
      "Epoch 23/50...\n"
     ]
    },
    {
     "name": "stderr",
     "output_type": "stream",
     "text": [
      "/usr/local/lib/python3.10/dist-packages/keras/src/optimizers/base_optimizer.py:678: UserWarning: Gradients do not exist for variables ['kernel', 'bias', 'kernel', 'bias', 'kernel', 'bias', 'kernel', 'bias', 'kernel', 'bias', 'kernel', 'bias', 'kernel', 'bias', 'kernel', 'bias', 'kernel', 'bias', 'kernel', 'bias'] when minimizing the loss. If using `model.compile()`, did you forget to provide a `loss` argument?\n",
      "  warnings.warn(\n"
     ]
    },
    {
     "name": "stdout",
     "output_type": "stream",
     "text": [
      "  Training Loss: 0.5413\n",
      "  Harmonic Mean Macro F1 on Validation: 0.3388\n",
      "  No improvement for 3 epoch(s).\n",
      "Epoch 24/50...\n"
     ]
    },
    {
     "name": "stderr",
     "output_type": "stream",
     "text": [
      "/usr/local/lib/python3.10/dist-packages/keras/src/optimizers/base_optimizer.py:678: UserWarning: Gradients do not exist for variables ['kernel', 'bias', 'kernel', 'bias', 'kernel', 'bias', 'kernel', 'bias', 'kernel', 'bias', 'kernel', 'bias', 'kernel', 'bias', 'kernel', 'bias', 'kernel', 'bias', 'kernel', 'bias'] when minimizing the loss. If using `model.compile()`, did you forget to provide a `loss` argument?\n",
      "  warnings.warn(\n"
     ]
    },
    {
     "name": "stdout",
     "output_type": "stream",
     "text": [
      "  Training Loss: 0.5362\n",
      "  Harmonic Mean Macro F1 on Validation: 0.3596\n",
      "  No improvement for 4 epoch(s).\n",
      "Epoch 25/50...\n"
     ]
    },
    {
     "name": "stderr",
     "output_type": "stream",
     "text": [
      "/usr/local/lib/python3.10/dist-packages/keras/src/optimizers/base_optimizer.py:678: UserWarning: Gradients do not exist for variables ['kernel', 'bias', 'kernel', 'bias', 'kernel', 'bias', 'kernel', 'bias', 'kernel', 'bias', 'kernel', 'bias', 'kernel', 'bias', 'kernel', 'bias', 'kernel', 'bias', 'kernel', 'bias'] when minimizing the loss. If using `model.compile()`, did you forget to provide a `loss` argument?\n",
      "  warnings.warn(\n"
     ]
    },
    {
     "name": "stdout",
     "output_type": "stream",
     "text": [
      "  Training Loss: 0.5344\n",
      "  Harmonic Mean Macro F1 on Validation: 0.3644\n",
      "  No improvement for 5 epoch(s).\n",
      "Early stopping triggered.\n"
     ]
    }
   ],
   "source": [
    "total_epochs = 50  # Increased maximum epochs\n",
    "patience = 5       # Number of epochs with no improvement to wait before stopping\n",
    "best_f1 = -np.inf  # Initialize best macro F1 score to negative infinity\n",
    "patience_counter = 0\n",
    "\n",
    "for epoch in range(total_epochs):\n",
    "    print(f\"Epoch {epoch+1}/{total_epochs}...\")\n",
    "    epoch_loss = 0.0\n",
    "    total_batches = 0\n",
    "    \n",
    "    # Training loop over all tasks\n",
    "    for task in task_names:\n",
    "        dataset = train_datasets_tf[task]\n",
    "        \n",
    "        for step, (images, labels) in enumerate(dataset):\n",
    "            images = tf.cast(images, tf.float32)\n",
    "            with tf.GradientTape() as tape:\n",
    "                logits = model(images, task=task, training=True)\n",
    "                loss_value = loss_fn(labels, logits)\n",
    "            \n",
    "            grads = tape.gradient(loss_value, model.trainable_variables)\n",
    "            optimizer.apply_gradients(zip(grads, model.trainable_variables))\n",
    "            \n",
    "            epoch_loss += loss_value.numpy()\n",
    "            total_batches += 1\n",
    "    \n",
    "    avg_loss = epoch_loss / total_batches if total_batches > 0 else 0.0\n",
    "    print(f\"  Training Loss: {avg_loss:.4f}\")\n",
    "\n",
    "    # Evaluate on validation set after each epoch for early stopping\n",
    "    macro_f1_scores = {}\n",
    "    for task in task_names:\n",
    "        all_preds = []\n",
    "        all_labels = []\n",
    "        for images, labels in val_datasets_tf[task]:\n",
    "            images = tf.cast(images, tf.float32)\n",
    "            logits = model(images, task=task, training=False)\n",
    "            preds = tf.argmax(logits, axis=1).numpy()\n",
    "            all_preds.append(preds)\n",
    "            all_labels.append(labels.numpy())\n",
    "        all_preds = np.concatenate(all_preds)\n",
    "        all_labels = np.concatenate(all_labels)\n",
    "        f1 = f1_score(all_labels, all_preds, average='macro')\n",
    "        macro_f1_scores[task] = f1\n",
    "    \n",
    "    # Calculate harmonic mean of macro F1 scores across tasks\n",
    "    f1_values = list(macro_f1_scores.values())\n",
    "    if all(f1 > 0 for f1 in f1_values):\n",
    "        harmonic_mean_f1 = len(f1_values) / np.sum(1.0 / np.array(f1_values))\n",
    "    else:\n",
    "        harmonic_mean_f1 = 0.0\n",
    "    \n",
    "    print(f\"  Harmonic Mean Macro F1 on Validation: {harmonic_mean_f1:.4f}\")\n",
    "    \n",
    "    # Early stopping check\n",
    "    if harmonic_mean_f1 > best_f1:\n",
    "        best_f1 = harmonic_mean_f1\n",
    "        patience_counter = 0\n",
    "        # Optionally save the best model weights here\n",
    "        best_weights = model.get_weights()\n",
    "        print(\"  Improved validation macro F1. Saving model weights.\")\n",
    "    else:\n",
    "        patience_counter += 1\n",
    "        print(f\"  No improvement for {patience_counter} epoch(s).\")\n",
    "        \n",
    "    if patience_counter >= patience:\n",
    "        print(\"Early stopping triggered.\")\n",
    "        break\n",
    "\n",
    "# After training, restore best model weights if early stopping occurred\n",
    "model.set_weights(best_weights)"
   ]
  },
  {
   "cell_type": "code",
   "execution_count": 10,
   "id": "54534ea6",
   "metadata": {
    "execution": {
     "iopub.execute_input": "2025-01-19T11:28:39.014718Z",
     "iopub.status.busy": "2025-01-19T11:28:39.014457Z",
     "iopub.status.idle": "2025-01-19T11:28:44.077932Z",
     "shell.execute_reply": "2025-01-19T11:28:44.077145Z"
    },
    "papermill": {
     "duration": 5.073268,
     "end_time": "2025-01-19T11:28:44.079267",
     "exception": false,
     "start_time": "2025-01-19T11:28:39.005999",
     "status": "completed"
    },
    "tags": []
   },
   "outputs": [
    {
     "name": "stdout",
     "output_type": "stream",
     "text": [
      "\n",
      "Validation Results:\n",
      "pathmnist => Accuracy: 0.2751, AUC: 0.5890\n",
      "dermamnist => Accuracy: 0.6770, AUC: 0.5218\n",
      "octmnist => Accuracy: 0.5980, AUC: 0.6003\n",
      "pneumoniamnist => Accuracy: 0.9294, AUC: 0.8726\n",
      "retinamnist => Accuracy: 0.4500, AUC: 0.5083\n",
      "breastmnist => Accuracy: 0.7564, AUC: 0.5627\n",
      "bloodmnist => Accuracy: 0.6542, AUC: 0.8093\n",
      "tissuemnist => Accuracy: 0.5563, AUC: 0.6546\n",
      "organamnist => Accuracy: 0.8855, AUC: 0.9157\n",
      "organcmnist => Accuracy: 0.9302, AUC: 0.9555\n",
      "organsmnist => Accuracy: 0.8418, AUC: 0.8903\n"
     ]
    }
   ],
   "source": [
    "print(\"\\nValidation Results:\")\n",
    "for task in task_names:\n",
    "    all_preds = []\n",
    "    \n",
    "    # Collect predictions for each batch in the validation set of the current task\n",
    "    for images, labels in val_datasets_tf[task]:\n",
    "        images = tf.cast(images, tf.float32)\n",
    "        logits = model(images, task=task, training=False)\n",
    "        preds = tf.argmax(logits, axis=1).numpy()\n",
    "        all_preds.append(preds)\n",
    "\n",
    "    # Concatenate predictions across all batches\n",
    "    all_preds = np.concatenate(all_preds)\n",
    "\n",
    "    # Determine number of classes for the current task using the length of the label mapping\n",
    "    n_classes = len(data_flag_to_info[task]['label'])\n",
    "\n",
    "    # Create a one-hot encoded matrix for predictions\n",
    "    y_score = np.zeros((all_preds.shape[0], n_classes))\n",
    "    y_score[np.arange(all_preds.shape[0]), all_preds] = 1\n",
    "\n",
    "    # Initialize the Evaluator with the correct root directory\n",
    "    evaluator = Evaluator(task, split='val', root=base_path)\n",
    "\n",
    "    # Evaluate using one-hot encoded predictions as scores\n",
    "    metrics = evaluator.evaluate(y_score)\n",
    "\n",
    "    # Extract accuracy and AUC from the returned Metrics object\n",
    "    accuracy = metrics.ACC\n",
    "    auc = metrics.AUC\n",
    "\n",
    "    print(f\"{task} => Accuracy: {accuracy:.4f}, AUC: {auc:.4f}\")"
   ]
  },
  {
   "cell_type": "code",
   "execution_count": 11,
   "id": "6fecf8ee",
   "metadata": {
    "execution": {
     "iopub.execute_input": "2025-01-19T11:28:44.144399Z",
     "iopub.status.busy": "2025-01-19T11:28:44.144058Z",
     "iopub.status.idle": "2025-01-19T11:28:49.437773Z",
     "shell.execute_reply": "2025-01-19T11:28:49.436973Z"
    },
    "papermill": {
     "duration": 5.30348,
     "end_time": "2025-01-19T11:28:49.439168",
     "exception": false,
     "start_time": "2025-01-19T11:28:44.135688",
     "status": "completed"
    },
    "tags": []
   },
   "outputs": [
    {
     "name": "stdout",
     "output_type": "stream",
     "text": [
      "\n",
      "Macro F1 Scores per Task:\n",
      "pathmnist: 0.0212\n",
      "dermamnist: 0.1145\n",
      "octmnist: 0.0369\n",
      "pneumoniamnist: 0.2049\n",
      "retinamnist: 0.0757\n",
      "breastmnist: 0.4230\n",
      "bloodmnist: 0.0362\n",
      "tissuemnist: 0.0479\n",
      "organamnist: 0.0063\n",
      "organcmnist: 0.0074\n",
      "organsmnist: 0.0074\n",
      "\n",
      "Harmonic Mean of Macro F1 Scores: 0.0190\n"
     ]
    },
    {
     "data": {
      "image/png": "[encoded data removed]",
      "text/plain": [
       "<Figure size 1200x600 with 1 Axes>"
      ]
     },
     "metadata": {},
     "output_type": "display_data"
    }
   ],
   "source": [
    "# Dictionary to store macro F1 scores for each task\n",
    "macro_f1_scores = {}\n",
    "\n",
    "print(\"\\nMacro F1 Scores per Task:\")\n",
    "for task in task_names:\n",
    "    all_preds = []\n",
    "    all_labels = []\n",
    "\n",
    "    # Collect predictions and true labels for the validation set of the current task\n",
    "    for images, labels in val_datasets_tf[task]:\n",
    "        images = tf.cast(images, tf.float32) / 255.0\n",
    "        logits = model(images, task=task, training=False)\n",
    "        preds = tf.argmax(logits, axis=1).numpy()\n",
    "        \n",
    "        all_preds.append(preds)\n",
    "        all_labels.append(labels.numpy())\n",
    "\n",
    "    # Concatenate predictions and labels across all batches\n",
    "    all_preds = np.concatenate(all_preds)\n",
    "    all_labels = np.concatenate(all_labels)\n",
    "\n",
    "    # Compute macro F1 score for current task\n",
    "    f1 = f1_score(all_labels, all_preds, average='macro')\n",
    "    macro_f1_scores[task] = f1\n",
    "    print(f\"{task}: {f1:.4f}\")\n",
    "\n",
    "# Compute harmonic mean of all macro F1 scores\n",
    "f1_values = list(macro_f1_scores.values())\n",
    "# Avoid division by zero\n",
    "if all(f1 > 0 for f1 in f1_values):\n",
    "    harmonic_mean = len(f1_values) / np.sum(1.0 / np.array(f1_values))\n",
    "else:\n",
    "    harmonic_mean = 0.0\n",
    "\n",
    "print(f\"\\nHarmonic Mean of Macro F1 Scores: {harmonic_mean:.4f}\")\n",
    "\n",
    "# Plot the macro F1 scores for each task\n",
    "tasks = list(macro_f1_scores.keys())\n",
    "scores = list(macro_f1_scores.values())\n",
    "\n",
    "plt.figure(figsize=(12, 6))\n",
    "bars = plt.bar(tasks, scores, color='skyblue')\n",
    "plt.axhline(y=harmonic_mean, color='r', linestyle='--', label=f'Harmonic Mean: {harmonic_mean:.4f}')\n",
    "plt.xlabel(\"Task\")\n",
    "plt.ylabel(\"Macro F1 Score\")\n",
    "plt.title(\"Macro F1 Scores per Task with Harmonic Mean\")\n",
    "plt.xticks(rotation=45)\n",
    "plt.legend()\n",
    "plt.ylim([0, 1])\n",
    "plt.show()"
   ]
  },
  {
   "cell_type": "code",
   "execution_count": 12,
   "id": "153a6979",
   "metadata": {
    "execution": {
     "iopub.execute_input": "2025-01-19T11:28:49.458742Z",
     "iopub.status.busy": "2025-01-19T11:28:49.458518Z",
     "iopub.status.idle": "2025-01-19T11:28:57.980743Z",
     "shell.execute_reply": "2025-01-19T11:28:57.979700Z"
    },
    "papermill": {
     "duration": 8.533472,
     "end_time": "2025-01-19T11:28:57.982111",
     "exception": false,
     "start_time": "2025-01-19T11:28:49.448639",
     "status": "completed"
    },
    "tags": []
   },
   "outputs": [
    {
     "name": "stdout",
     "output_type": "stream",
     "text": [
      "   id  id_image_in_task  task_name  label\n",
      "0   0                 0  pathmnist      1\n",
      "1   1                 1  pathmnist      1\n",
      "2   2                 2  pathmnist      1\n",
      "3   3                 3  pathmnist      1\n",
      "4   4                 4  pathmnist      1\n",
      "5   5                 5  pathmnist      1\n",
      "6   6                 6  pathmnist      1\n",
      "7   7                 7  pathmnist      1\n",
      "8   8                 8  pathmnist      1\n",
      "9   9                 9  pathmnist      1\n",
      "Submission file saved to 'submission.csv'\n"
     ]
    }
   ],
   "source": [
    "submission_rows = []\n",
    "global_id = 0\n",
    "\n",
    "for task in task_names:\n",
    "    # We'll just iterate again in batch form\n",
    "    # We'll keep a local index for each sample in this task\n",
    "    idx_in_task = 0\n",
    "    \n",
    "    for images, _ in test_datasets_tf[task]:\n",
    "        images = tf.cast(images, tf.float32) / 255.0\n",
    "        logits = model(images, task=task, training=False)\n",
    "        preds = tf.argmax(logits, axis=1).numpy()\n",
    "        \n",
    "        for pred_label in preds:\n",
    "            submission_rows.append([\n",
    "                global_id,\n",
    "                idx_in_task,\n",
    "                task,\n",
    "                int(pred_label)\n",
    "            ])\n",
    "            global_id += 1\n",
    "            idx_in_task += 1\n",
    "\n",
    "# Convert to DataFrame\n",
    "submission_df = pd.DataFrame(\n",
    "    submission_rows,\n",
    "    columns=[\"id\", \"id_image_in_task\", \"task_name\", \"label\"]\n",
    ")\n",
    "\n",
    "print(submission_df.head(10))\n",
    "\n",
    "# Save to CSV\n",
    "submission_df.to_csv(\"submission.csv\", index=False)\n",
    "print(\"Submission file saved to 'submission.csv'\")"
   ]
  },
  {
   "cell_type": "code",
   "execution_count": 13,
   "id": "6d445be2",
   "metadata": {
    "execution": {
     "iopub.execute_input": "2025-01-19T11:28:58.001581Z",
     "iopub.status.busy": "2025-01-19T11:28:58.001332Z",
     "iopub.status.idle": "2025-01-19T11:28:58.015320Z",
     "shell.execute_reply": "2025-01-19T11:28:58.014564Z"
    },
    "papermill": {
     "duration": 0.025107,
     "end_time": "2025-01-19T11:28:58.016642",
     "exception": false,
     "start_time": "2025-01-19T11:28:57.991535",
     "status": "completed"
    },
    "tags": []
   },
   "outputs": [
    {
     "data": {
      "text/html": [
       "<div>\n",
       "<style scoped>\n",
       "    .dataframe tbody tr th:only-of-type {\n",
       "        vertical-align: middle;\n",
       "    }\n",
       "\n",
       "    .dataframe tbody tr th {\n",
       "        vertical-align: top;\n",
       "    }\n",
       "\n",
       "    .dataframe thead th {\n",
       "        text-align: right;\n",
       "    }\n",
       "</style>\n",
       "<table border=\"1\" class=\"dataframe\">\n",
       "  <thead>\n",
       "    <tr style=\"text-align: right;\">\n",
       "      <th></th>\n",
       "      <th>id</th>\n",
       "      <th>id_image_in_task</th>\n",
       "      <th>task_name</th>\n",
       "      <th>label</th>\n",
       "    </tr>\n",
       "  </thead>\n",
       "  <tbody>\n",
       "    <tr>\n",
       "      <th>0</th>\n",
       "      <td>0</td>\n",
       "      <td>0</td>\n",
       "      <td>pathmnist</td>\n",
       "      <td>1</td>\n",
       "    </tr>\n",
       "    <tr>\n",
       "      <th>1</th>\n",
       "      <td>1</td>\n",
       "      <td>1</td>\n",
       "      <td>pathmnist</td>\n",
       "      <td>1</td>\n",
       "    </tr>\n",
       "    <tr>\n",
       "      <th>2</th>\n",
       "      <td>2</td>\n",
       "      <td>2</td>\n",
       "      <td>pathmnist</td>\n",
       "      <td>1</td>\n",
       "    </tr>\n",
       "    <tr>\n",
       "      <th>3</th>\n",
       "      <td>3</td>\n",
       "      <td>3</td>\n",
       "      <td>pathmnist</td>\n",
       "      <td>1</td>\n",
       "    </tr>\n",
       "    <tr>\n",
       "      <th>4</th>\n",
       "      <td>4</td>\n",
       "      <td>4</td>\n",
       "      <td>pathmnist</td>\n",
       "      <td>1</td>\n",
       "    </tr>\n",
       "    <tr>\n",
       "      <th>...</th>\n",
       "      <td>...</td>\n",
       "      <td>...</td>\n",
       "      <td>...</td>\n",
       "      <td>...</td>\n",
       "    </tr>\n",
       "    <tr>\n",
       "      <th>96936</th>\n",
       "      <td>96936</td>\n",
       "      <td>8824</td>\n",
       "      <td>organsmnist</td>\n",
       "      <td>1</td>\n",
       "    </tr>\n",
       "    <tr>\n",
       "      <th>96937</th>\n",
       "      <td>96937</td>\n",
       "      <td>8825</td>\n",
       "      <td>organsmnist</td>\n",
       "      <td>1</td>\n",
       "    </tr>\n",
       "    <tr>\n",
       "      <th>96938</th>\n",
       "      <td>96938</td>\n",
       "      <td>8826</td>\n",
       "      <td>organsmnist</td>\n",
       "      <td>1</td>\n",
       "    </tr>\n",
       "    <tr>\n",
       "      <th>96939</th>\n",
       "      <td>96939</td>\n",
       "      <td>8827</td>\n",
       "      <td>organsmnist</td>\n",
       "      <td>1</td>\n",
       "    </tr>\n",
       "    <tr>\n",
       "      <th>96940</th>\n",
       "      <td>96940</td>\n",
       "      <td>8828</td>\n",
       "      <td>organsmnist</td>\n",
       "      <td>1</td>\n",
       "    </tr>\n",
       "  </tbody>\n",
       "</table>\n",
       "<p>96941 rows × 4 columns</p>\n",
       "</div>"
      ],
      "text/plain": [
       "          id  id_image_in_task    task_name  label\n",
       "0          0                 0    pathmnist      1\n",
       "1          1                 1    pathmnist      1\n",
       "2          2                 2    pathmnist      1\n",
       "3          3                 3    pathmnist      1\n",
       "4          4                 4    pathmnist      1\n",
       "...      ...               ...          ...    ...\n",
       "96936  96936              8824  organsmnist      1\n",
       "96937  96937              8825  organsmnist      1\n",
       "96938  96938              8826  organsmnist      1\n",
       "96939  96939              8827  organsmnist      1\n",
       "96940  96940              8828  organsmnist      1\n",
       "\n",
       "[96941 rows x 4 columns]"
      ]
     },
     "execution_count": 13,
     "metadata": {},
     "output_type": "execute_result"
    }
   ],
   "source": [
    "submission_df"
   ]
  },
  {
   "cell_type": "code",
   "execution_count": null,
   "id": "acbd4129",
   "metadata": {
    "papermill": {
     "duration": 0.008944,
     "end_time": "2025-01-19T11:28:58.034824",
     "exception": false,
     "start_time": "2025-01-19T11:28:58.025880",
     "status": "completed"
    },
    "tags": []
   },
   "outputs": [],
   "source": []
  }
 ],
 "metadata": {
  "kaggle": {
   "accelerator": "gpu",
   "dataSources": [
    {
     "databundleVersionId": 9915460,
     "sourceId": 86864,
     "sourceType": "competition"
    }
   ],
   "dockerImageVersionId": 30840,
   "isGpuEnabled": true,
   "isInternetEnabled": true,
   "language": "python",
   "sourceType": "notebook"
  },
  "kernelspec": {
   "display_name": "Python 3",
   "language": "python",
   "name": "python3"
  },
  "language_info": {
   "codemirror_mode": {
    "name": "ipython",
    "version": 3
   },
   "file_extension": ".py",
   "mimetype": "text/x-python",
   "name": "python",
   "nbconvert_exporter": "python",
   "pygments_lexer": "ipython3",
   "version": "3.10.12"
  },
  "papermill": {
   "default_parameters": {},
   "duration": 6082.317092,
   "end_time": "2025-01-19T11:29:01.142419",
   "environment_variables": {},
   "exception": null,
   "input_path": "__notebook__.ipynb",
   "output_path": "__notebook__.ipynb",
   "parameters": {},
   "start_time": "2025-01-19T09:47:38.825327",
   "version": "2.6.0"
  }
 },
 "nbformat": 4,
 "nbformat_minor": 5
}
